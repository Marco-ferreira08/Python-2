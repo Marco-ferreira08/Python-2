{
  "metadata": {
    "kernelspec": {
      "name": "xpython",
      "display_name": "Python 3.13 (XPython)",
      "language": "python"
    },
    "language_info": {
      "file_extension": ".py",
      "mimetype": "text/x-python",
      "name": "python",
      "version": "3.13.1"
    }
  },
  "nbformat_minor": 5,
  "nbformat": 4,
  "cells": [
    {
      "id": "c87bc264",
      "cell_type": "markdown",
      "source": "> Projeto Desenvolve <br>\nProgramação Intermediária com Python <br>\nProfa. Camila Laranjeira (mila@projetodesenvolve.com.br) <br>\n\n# 1.1 - Recursividade",
      "metadata": {}
    },
    {
      "id": "02e47197",
      "cell_type": "markdown",
      "source": "## Exercícios:\n\n#### **Q1**. \nFaça um procedimento recursivo que receba dois valores inteiros `a` e `b` e imprime o intervalo fechado entre eles. Se `a > b` imprima uma mensagem de erro.\n\n| Entrada |  Saída |\n| ------- | ------ |\n| 1 10    | 1 2 3 4 5 6 7 8 9 10 |\n| -5 1    | -5 -4 -3 -2 -1 |\n| 5 -5    | Valores invalidos |\n| 17 20   | 17 18 19 20 |",
      "metadata": {}
    },
    {
      "id": "e89a9966",
      "cell_type": "code",
      "source": "def contagem(a, b):\n  # Caso em que a função entraria em loop infinito\n  if(a > b):\n    print(\"Valores inválidos\")\n\n  # Caso base\n  elif (a == b):\n    print(f'{b} ', end='')\n\n  # Passo recursivo\n  else:\n    contagem(a, b-1)\n    print(f'{b} ', end='')\n\n\ncontagem(1, 10)\nprint(\"\")\ncontagem(-5, -1)\nprint(\"\")\ncontagem(5, -5)\ncontagem(17, 20)",
      "metadata": {
        "trusted": true
      },
      "outputs": [
        {
          "name": "stdout",
          "output_type": "stream",
          "text": "1 2 3 4 5 6 7 8 9 10 \n-5 -4 -3 -2 -1 \nValores inválidos\n17 18 19 20 "
        }
      ],
      "execution_count": 1
    },
    {
      "id": "b48196ed",
      "cell_type": "markdown",
      "source": "---\n\n\n#### **Q2**. \nMudando **apenas uma linha**, altere o código anterior para imprimir o intervalo invertido.\n\n| Entrada |  Saída |\n| ------- | ------ |\n| 1 10    | 10 9 8 7 6 5 4 3 2 1 |\n| -5 1    | -1 -2 -3 -4 -5 |\n| 5 -5    | Valores invalidos |\n| 17 20   | 20 19 18 17 |",
      "metadata": {}
    },
    {
      "id": "4d0c21b4",
      "cell_type": "code",
      "source": "def contagem(a, b):\n  # Caso em que a função entraria em loop infinito\n  if(a > b):\n    print(\"Valores inválidos\")\n\n  # Caso base\n  elif (a == b):\n    print(f'{b} ', end='')\n\n  # Passo recursivo\n  else:\n    print(f'{b} ', end='')\n    contagem(a, b-1)\n\n\n\ncontagem(1, 10)\nprint(\"\")\ncontagem(-5, -1)\nprint(\"\")\ncontagem(5, -5)\ncontagem(17, 20)",
      "metadata": {
        "trusted": true
      },
      "outputs": [
        {
          "name": "stdout",
          "output_type": "stream",
          "text": "10 9 8 7 6 5 4 3 2 1 \n-1 -2 -3 -4 -5 \nValores inválidos\n20 19 18 17 "
        }
      ],
      "execution_count": 2
    },
    {
      "id": "be727074",
      "cell_type": "markdown",
      "source": "\n\n---\n\n\n#### **Q3**. \nEscreva uma função recursiva que recebe um inteiro `n > 1` e calcula a soma dos valores entre `n` e `1`.\n\n| Entrada |  Saída |\n| ------- | ------ |\n| 5   | 15 |\n| 13  | 78 |",
      "metadata": {}
    },
    {
      "id": "c4da98b8",
      "cell_type": "code",
      "source": "def count(x):\n  if (x < 1):\n    print(\"Valor inválido\")\n  elif (x == 1):\n    return 1\n  else:\n    return x + (count(x-1))\n\n\nprint(f'5 => {count(5)}')\nprint(f'13 => {count(13)}')",
      "metadata": {
        "trusted": true
      },
      "outputs": [
        {
          "name": "stdout",
          "output_type": "stream",
          "text": "5 => 15\n13 => 91\n"
        }
      ],
      "execution_count": 3
    },
    {
      "id": "4142b276",
      "cell_type": "markdown",
      "source": "\n\n---\n\n\n#### **Q4**.  \n\nEscreva uma função recursiva que recebe um inteiro `n` e verifica se `n`é um valor primo, ou seja, se é divisível apenas por si mesmo e por `1`.",
      "metadata": {}
    },
    {
      "id": "4c96eb2d",
      "cell_type": "code",
      "source": "def isPrimeNumber(x):\n  if (not type(x) == int):\n    print(\"Digite um número inteiro maior que 1\")\n  elif (x <= 1):\n    print(\"Números menores ou iguais que 1 não são primos\")\n  else:\n    def isDivisible(y):\n      if (y == 1):\n        return True\n      elif (x % y == 0):\n        return False\n      else:\n        return isDivisible(y-1)\n    print(f'{x} é um númer primo: {isDivisible(x-1)}')\n\nisPrimeNumber(1)",
      "metadata": {
        "trusted": true
      },
      "outputs": [
        {
          "name": "stdout",
          "output_type": "stream",
          "text": "Números menores ou iguais que 1 não são primos\n"
        }
      ],
      "execution_count": 4
    },
    {
      "id": "2a0ae81c",
      "cell_type": "markdown",
      "source": "\n\n---\n\n\n#### **Q5**. \nImplemente uma função recursiva que recebe um número inteiro decimal e retorna sua representação binária como uma string. Para realizar essa conversão, utilize o método de divisão sucessiva, onde você divide o número decimal por 2 e coleta os restos até que o quociente seja zero. A ordem dos restos coletados, de baixo para cima, forma o número binário correspondente.\n\n**Exemplo de Conversão:**\n\nPara converter o número decimal 13 para binário:\n```\n13 ÷ 2 = 6, resto 1\n6 ÷ 2 = 3, resto 0\n3 ÷ 2 = 1, resto 1\n1 ÷ 2 = 0, resto 1\n```\nLendo os restos de baixo para cima, obtemos o número binário `1101`.",
      "metadata": {}
    },
    {
      "id": "a7d954f0",
      "cell_type": "code",
      "source": "def toBinary(x):\n  if (x // 2 == 0):\n    print(x %2, end=\"\")\n    return 1\n  else:\n    toBinary(x // 2)\n    print(x % 2, end=\"\")\n\ntoBinary(13)",
      "metadata": {
        "trusted": true
      },
      "outputs": [
        {
          "name": "stdout",
          "output_type": "stream",
          "text": "1101"
        }
      ],
      "execution_count": 5
    },
    {
      "id": "0f500709",
      "cell_type": "markdown",
      "source": "\n\n---\n\n\n#### **Extra**: \n\nImplemente uma função recursiva em Python que realiza a travessia em pré-ordem de uma árvore binária representada por listas aninhadas. Na travessia em pré-ordem (ou pré-fixada), o nó raiz é visitado primeiro, seguido pela subárvore esquerda e, por fim, pela subárvore direita. A questão fixa as constantes `RAIZ_IDX, ESQ_IDX, DIR_IDX` representando os índices da lista onde se encontra o valor raíz, o nó a esquerda e o nó a direita.\n\n```\n# Representação visual da árvore\n       4\n      / \\\n     2   5\n    / \\\n   1   3\n```",
      "metadata": {}
    },
    {
      "id": "10df4831",
      "cell_type": "code",
      "source": "RAIZ_IDX, ESQ_IDX, DIR_IDX = 0, 1, 2\n\narvore = [\n    4,              # raíz, nível 0\n    [               # ramo da esquerda, nível 1\n        2,          # valor filho esquerda\n        [1, None, None],   # ramo da esquerda, nível 2\n        [3, None, None]    # ramo da direita, nível 2\n    ],\n    [               # ramo da direita, nível 1\n        5,          # valor filho da direita\n        None,              # ramo da esquerda, nível 2\n        None               # ramo da direita, nível 2\n    ]\n]\n\n# arvore = [4, [2, [1, None, None], [3, None, None]], [5, None, None]]\n\narvoreTeste = []\ndef bin_tree(tree):\n  arvoreTeste.append(tree[RAIZ_IDX])\n  if tree[ESQ_IDX] is not None:\n    bin_tree(tree[ESQ_IDX])\n  if tree[DIR_IDX] is not None:\n    bin_tree(tree[DIR_IDX])\nbin_tree(arvore)\nprint(arvoreTeste)",
      "metadata": {
        "trusted": true
      },
      "outputs": [
        {
          "name": "stdout",
          "output_type": "stream",
          "text": "[4, 2, 1, 3, 5]\n"
        }
      ],
      "execution_count": 6
    }
  ]
}
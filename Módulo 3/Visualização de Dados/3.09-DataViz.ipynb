{
 "cells": [
  {
   "cell_type": "markdown",
   "metadata": {},
   "source": [
    "> Projeto Desenvolve <br>\n",
    "Programação Intermediária com Python <br>\n",
    "Profa. Camila Laranjeira (mila@projetodesenvolve.com.br) <br>\n",
    "\n",
    "# 3.9 - Visualização de Dados"
   ]
  },
  {
   "cell_type": "markdown",
   "metadata": {
    "vscode": {
     "languageId": "plaintext"
    }
   },
   "source": [
    "## Exercícios\n",
    "Vamos trabalhar com as mesmas bases de dados do exercício de Pandas. Aqui estão os links caso você queira baixar novamente, mas recomendo trabalhar com o `wc_formatado.csv` que exportamos na questão Q2 do exercício anterior.\n",
    "\n",
    "* https://raw.githubusercontent.com/camilalaranjeira/python-intermediario/main/fifa-wc/matches_1930_2022.csv\n",
    "* https://raw.githubusercontent.com/camilalaranjeira/python-intermediario/main/fifa-wc/matches_1991_2023.csv\n",
    "\n",
    "Para relembrar, essas são as colunas do dataframe:\n",
    "```\n",
    "Data columns (total 21 columns):\n",
    " #   Column             Non-Null Count  Dtype         \n",
    "---  ------             --------------  -----         \n",
    " 0   time_1             1312 non-null   string        \n",
    " 1   time_2             1312 non-null   string        \n",
    " 2   gols_1             1312 non-null   int64         \n",
    " 3   gols_2             1312 non-null   int64         \n",
    " 4   data               1312 non-null   datetime64[ns]\n",
    " 5   ano                1312 non-null   int64         \n",
    " 6   país_sede          1312 non-null   string        \n",
    " 7   comparecimento     1312 non-null   int64         \n",
    " 8   resultado          1312 non-null   string        \n",
    " 9   rodada             1312 non-null   category      \n",
    " 10  gols_1_detalhes    970 non-null    string        \n",
    " 11  gols_2_detalhes    771 non-null    string        \n",
    " 12  gols_1_contra      57 non-null     string        \n",
    " 13  gols_2_contra      30 non-null     string        \n",
    " 14  gols_1_penalti     170 non-null    string        \n",
    " 15  gols_2_penalti     119 non-null    string        \n",
    " 16  cartao_vermelho_1  59 non-null     string        \n",
    " 17  cartao_vermelho_2  65 non-null     string        \n",
    " 18  cartao_amarelo_1   834 non-null    string        \n",
    " 19  cartao_amarelo_2   857 non-null    string        \n",
    " 20  copa               1312 non-null   string \n",
    "```"
   ]
  },
  {
   "cell_type": "markdown",
   "metadata": {},
   "source": [
    "#### Q1.\n",
    "Realize todos os imports necessários para executar as três bibliotecas de visualização que conhecemos:\n",
    "* Matplotlib (lembre-se do comando mágico)\n",
    "* Seaborn\n",
    "* Plotly\n",
    "\n",
    "Para cada uma delas, altere o tema padrão de visualização. "
   ]
  },
  {
   "cell_type": "code",
   "execution_count": 2,
   "metadata": {},
   "outputs": [
    {
     "name": "stdout",
     "output_type": "stream",
     "text": [
      "<class 'pandas.core.frame.DataFrame'>\n",
      "RangeIndex: 1312 entries, 0 to 1311\n",
      "Data columns (total 21 columns):\n",
      " #   Column             Non-Null Count  Dtype         \n",
      "---  ------             --------------  -----         \n",
      " 0   time_1             1312 non-null   string        \n",
      " 1   time_2             1312 non-null   string        \n",
      " 2   gols_1             1312 non-null   int64         \n",
      " 3   gols_2             1312 non-null   int64         \n",
      " 4   data               1312 non-null   datetime64[ns]\n",
      " 5   ano                1312 non-null   int64         \n",
      " 6   país_sede          1312 non-null   string        \n",
      " 7   comparecimento     1312 non-null   int64         \n",
      " 8   resultado          1312 non-null   string        \n",
      " 9   rodada             1312 non-null   category      \n",
      " 10  gols_1_detalhes    970 non-null    string        \n",
      " 11  gols_2_detalhes    771 non-null    string        \n",
      " 12  gols_1_contra      57 non-null     string        \n",
      " 13  gols_2_contra      30 non-null     string        \n",
      " 14  gols_1_penalti     170 non-null    string        \n",
      " 15  gols_2_penalti     119 non-null    string        \n",
      " 16  cartao_vermelho_1  59 non-null     string        \n",
      " 17  cartao_vermelho_2  65 non-null     string        \n",
      " 18  cartao_amarelo_1   834 non-null    string        \n",
      " 19  cartao_amarelo_2   857 non-null    string        \n",
      " 20  copa               1312 non-null   string        \n",
      "dtypes: category(1), datetime64[ns](1), int64(4), string(15)\n",
      "memory usage: 206.8 KB\n"
     ]
    },
    {
     "data": {
      "text/plain": [
       "None"
      ]
     },
     "metadata": {},
     "output_type": "display_data"
    }
   ],
   "source": [
    "import pandas as pd\n",
    "import numpy as np\n",
    "\n",
    "# Configurando pandas\n",
    "pd.set_option('display.max_columns',None)\n",
    "pd.set_option('display.max_rows',5)\n",
    "\n",
    "# Importanto pyplot do matplotlib\n",
    "import matplotlib.pyplot as plt\n",
    "# Método mágico que permite que os gráficos sejam exibido automaticamente sem necessitarem do plt.show()\n",
    "%matplotlib inline\n",
    "# Importando seaborn\n",
    "import seaborn as sns\n",
    "# Importando Express do Plotly\n",
    "import plotly.express as px\n",
    "# Importando Graph Objects do Plotly\n",
    "import plotly.graph_objects as po\n",
    "\n",
    "\n",
    "# Importando base de dados da copa do mundo\n",
    "wc = pd.read_csv(\"wc_formatado.csv\")\n",
    "\n",
    "from numpy.dtypes import ObjectDType as npObject\n",
    "\n",
    "colunas_object = [i for i in wc.columns if wc[i].dtype == npObject]\n",
    "\n",
    "for i in colunas_object:\n",
    "    if i == \"data\": tipo = \"datetime64[ns]\"\n",
    "    elif i == \"rodada\": tipo = \"category\"\n",
    "    else: tipo = \"string\"\n",
    "\n",
    "    wc[i] = wc[i].astype(tipo)\n",
    "\n",
    "display(wc.info())"
   ]
  },
  {
   "cell_type": "markdown",
   "metadata": {
    "vscode": {
     "languageId": "plaintext"
    }
   },
   "source": [
    "#### Q2.\n",
    "Sobre os dados de copa do mundo, qual a distribuição de público presente nos jogos? Isso pode ser respondido com um histograma com os dados da coluna `comparecimento`.  \n",
    "\n",
    "Lembre-se que alguns jogos estavam com público 0 incorretamente, que tal remover essas ocorrências para não atrapalhar sua visualzação?\n",
    "\n",
    "Você deve implementar essa visualização nas três bibliotecas que vimos:\n",
    "* Matplotlib\n",
    "* Seaborn\n",
    "* Plotly\n",
    "\n",
    "Garanta que o gráfico tenha pelo menos os atributos de título e rótulos de dimensão."
   ]
  },
  {
   "cell_type": "code",
   "execution_count": 4,
   "metadata": {},
   "outputs": [
    {
     "name": "stdout",
     "output_type": "stream",
     "text": [
      "\n"
     ]
    },
    {
     "data": {
      "image/png": "[encoded data removed]",
      "text/plain": [
       "<Figure size 640x480 with 1 Axes>"
      ]
     },
     "metadata": {},
     "output_type": "display_data"
    }
   ],
   "source": [
    "#### Solução com matplotlib\n",
    "\n",
    "wc_audiencia = wc.loc[wc.comparecimento > 0].sort_values(\"data\", ascending=True)\n",
    "\n",
    "# Dados de contextualização do gráfico\n",
    "hist_dados = {\n",
    "    \"xlabel\" : \"Audiência dos jogos\",\n",
    "    \"ylabel\" : \"Frequência\",\n",
    "    \"title\" : \"Historiograma de Audiências das Copas do Mundo\"\n",
    "    }\n",
    "\n",
    "plt.hist(wc_audiencia[\"comparecimento\"], bins=35, color=\"orangered\")\n",
    "plt.xlabel(hist_dados[\"xlabel\"])\n",
    "plt.ylabel(hist_dados[\"ylabel\"])\n",
    "plt.title(hist_dados[\"title\"])\n",
    "\n",
    "print()"
   ]
  },
  {
   "cell_type": "code",
   "execution_count": 5,
   "metadata": {},
   "outputs": [
    {
     "name": "stdout",
     "output_type": "stream",
     "text": [
      "\n"
     ]
    },
    {
     "data": {
      "image/png": "[encoded data removed]",
      "text/plain": [
       "<Figure size 640x480 with 1 Axes>"
      ]
     },
     "metadata": {},
     "output_type": "display_data"
    }
   ],
   "source": [
    "#### solução com seaborn\n",
    "\n",
    "sns.histplot(wc_audiencia[\"comparecimento\"], bins=35, color=\"navy\").set(\n",
    "    xlabel=hist_dados[\"xlabel\"],\n",
    "    ylabel=hist_dados[\"ylabel\"],\n",
    "    title=hist_dados[\"title\"]\n",
    "    )\n",
    "\n",
    "print()"
   ]
  },
  {
   "cell_type": "code",
   "execution_count": 6,
   "metadata": {},
   "outputs": [
    {
     "data": {
      "application/vnd.plotly.v1+json": {
       "config": {
        "plotlyServerURL": "https://plot.ly"
       },
       "data": [
        {
         "bingroup": "x",
         "hovertemplate": "comparecimento=%{x}<br>count=%{y}<extra></extra>",
         "legendgroup": "",
         "marker": {
          "color": "crimson",
          "pattern": {
           "shape": ""
          }
         },
         "name": "",
         "nbinsx": 35,
         "orientation": "v",
         "showlegend": false,
         "type": "histogram",
         "x": {
          "bdata": "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",
          "dtype": "i4"
         },
         "xaxis": "x",
         "yaxis": "y"
        }
       ],
       "layout": {
        "barmode": "relative",
        "legend": {
         "tracegroupgap": 0
        },
        "margin": {
         "t": 60
        },
        "template": {
         "data": {
          "bar": [
           {
            "error_x": {
             "color": "#2a3f5f"
            },
            "error_y": {
             "color": "#2a3f5f"
            },
            "marker": {
             "line": {
              "color": "#E5ECF6",
              "width": 0.5
             },
             "pattern": {
              "fillmode": "overlay",
              "size": 10,
              "solidity": 0.2
             }
            },
            "type": "bar"
           }
          ],
          "barpolar": [
           {
            "marker": {
             "line": {
              "color": "#E5ECF6",
              "width": 0.5
             },
             "pattern": {
              "fillmode": "overlay",
              "size": 10,
              "solidity": 0.2
             }
            },
            "type": "barpolar"
           }
          ],
          "carpet": [
           {
            "aaxis": {
             "endlinecolor": "#2a3f5f",
             "gridcolor": "white",
             "linecolor": "white",
             "minorgridcolor": "white",
             "startlinecolor": "#2a3f5f"
            },
            "baxis": {
             "endlinecolor": "#2a3f5f",
             "gridcolor": "white",
             "linecolor": "white",
             "minorgridcolor": "white",
             "startlinecolor": "#2a3f5f"
            },
            "type": "carpet"
           }
          ],
          "choropleth": [
           {
            "colorbar": {
             "outlinewidth": 0,
             "ticks": ""
            },
            "type": "choropleth"
           }
          ],
          "contour": [
           {
            "colorbar": {
             "outlinewidth": 0,
             "ticks": ""
            },
            "colorscale": [
             [
              0,
              "#0d0887"
             ],
             [
              0.1111111111111111,
              "#46039f"
             ],
             [
              0.2222222222222222,
              "#7201a8"
             ],
             [
              0.3333333333333333,
              "#9c179e"
             ],
             [
              0.4444444444444444,
              "#bd3786"
             ],
             [
              0.5555555555555556,
              "#d8576b"
             ],
             [
              0.6666666666666666,
              "#ed7953"
             ],
             [
              0.7777777777777778,
              "#fb9f3a"
             ],
             [
              0.8888888888888888,
              "#fdca26"
             ],
             [
              1,
              "#f0f921"
             ]
            ],
            "type": "contour"
           }
          ],
          "contourcarpet": [
           {
            "colorbar": {
             "outlinewidth": 0,
             "ticks": ""
            },
            "type": "contourcarpet"
           }
          ],
          "heatmap": [
           {
            "colorbar": {
             "outlinewidth": 0,
             "ticks": ""
            },
            "colorscale": [
             [
              0,
              "#0d0887"
             ],
             [
              0.1111111111111111,
              "#46039f"
             ],
             [
              0.2222222222222222,
              "#7201a8"
             ],
             [
              0.3333333333333333,
              "#9c179e"
             ],
             [
              0.4444444444444444,
              "#bd3786"
             ],
             [
              0.5555555555555556,
              "#d8576b"
             ],
             [
              0.6666666666666666,
              "#ed7953"
             ],
             [
              0.7777777777777778,
              "#fb9f3a"
             ],
             [
              0.8888888888888888,
              "#fdca26"
             ],
             [
              1,
              "#f0f921"
             ]
            ],
            "type": "heatmap"
           }
          ],
          "histogram": [
           {
            "marker": {
             "pattern": {
              "fillmode": "overlay",
              "size": 10,
              "solidity": 0.2
             }
            },
            "type": "histogram"
           }
          ],
          "histogram2d": [
           {
            "colorbar": {
             "outlinewidth": 0,
             "ticks": ""
            },
            "colorscale": [
             [
              0,
              "#0d0887"
             ],
             [
              0.1111111111111111,
              "#46039f"
             ],
             [
              0.2222222222222222,
              "#7201a8"
             ],
             [
              0.3333333333333333,
              "#9c179e"
             ],
             [
              0.4444444444444444,
              "#bd3786"
             ],
             [
              0.5555555555555556,
              "#d8576b"
             ],
             [
              0.6666666666666666,
              "#ed7953"
             ],
             [
              0.7777777777777778,
              "#fb9f3a"
             ],
             [
              0.8888888888888888,
              "#fdca26"
             ],
             [
              1,
              "#f0f921"
             ]
            ],
            "type": "histogram2d"
           }
          ],
          "histogram2dcontour": [
           {
            "colorbar": {
             "outlinewidth": 0,
             "ticks": ""
            },
            "colorscale": [
             [
              0,
              "#0d0887"
             ],
             [
              0.1111111111111111,
              "#46039f"
             ],
             [
              0.2222222222222222,
              "#7201a8"
             ],
             [
              0.3333333333333333,
              "#9c179e"
             ],
             [
              0.4444444444444444,
              "#bd3786"
             ],
             [
              0.5555555555555556,
              "#d8576b"
             ],
             [
              0.6666666666666666,
              "#ed7953"
             ],
             [
              0.7777777777777778,
              "#fb9f3a"
             ],
             [
              0.8888888888888888,
              "#fdca26"
             ],
             [
              1,
              "#f0f921"
             ]
            ],
            "type": "histogram2dcontour"
           }
          ],
          "mesh3d": [
           {
            "colorbar": {
             "outlinewidth": 0,
             "ticks": ""
            },
            "type": "mesh3d"
           }
          ],
          "parcoords": [
           {
            "line": {
             "colorbar": {
              "outlinewidth": 0,
              "ticks": ""
             }
            },
            "type": "parcoords"
           }
          ],
          "pie": [
           {
            "automargin": true,
            "type": "pie"
           }
          ],
          "scatter": [
           {
            "fillpattern": {
             "fillmode": "overlay",
             "size": 10,
             "solidity": 0.2
            },
            "type": "scatter"
           }
          ],
          "scatter3d": [
           {
            "line": {
             "colorbar": {
              "outlinewidth": 0,
              "ticks": ""
             }
            },
            "marker": {
             "colorbar": {
              "outlinewidth": 0,
              "ticks": ""
             }
            },
            "type": "scatter3d"
           }
          ],
          "scattercarpet": [
           {
            "marker": {
             "colorbar": {
              "outlinewidth": 0,
              "ticks": ""
             }
            },
            "type": "scattercarpet"
           }
          ],
          "scattergeo": [
           {
            "marker": {
             "colorbar": {
              "outlinewidth": 0,
              "ticks": ""
             }
            },
            "type": "scattergeo"
           }
          ],
          "scattergl": [
           {
            "marker": {
             "colorbar": {
              "outlinewidth": 0,
              "ticks": ""
             }
            },
            "type": "scattergl"
           }
          ],
          "scattermap": [
           {
            "marker": {
             "colorbar": {
              "outlinewidth": 0,
              "ticks": ""
             }
            },
            "type": "scattermap"
           }
          ],
          "scattermapbox": [
           {
            "marker": {
             "colorbar": {
              "outlinewidth": 0,
              "ticks": ""
             }
            },
            "type": "scattermapbox"
           }
          ],
          "scatterpolar": [
           {
            "marker": {
             "colorbar": {
              "outlinewidth": 0,
              "ticks": ""
             }
            },
            "type": "scatterpolar"
           }
          ],
          "scatterpolargl": [
           {
            "marker": {
             "colorbar": {
              "outlinewidth": 0,
              "ticks": ""
             }
            },
            "type": "scatterpolargl"
           }
          ],
          "scatterternary": [
           {
            "marker": {
             "colorbar": {
              "outlinewidth": 0,
              "ticks": ""
             }
            },
            "type": "scatterternary"
           }
          ],
          "surface": [
           {
            "colorbar": {
             "outlinewidth": 0,
             "ticks": ""
            },
            "colorscale": [
             [
              0,
              "#0d0887"
             ],
             [
              0.1111111111111111,
              "#46039f"
             ],
             [
              0.2222222222222222,
              "#7201a8"
             ],
             [
              0.3333333333333333,
              "#9c179e"
             ],
             [
              0.4444444444444444,
              "#bd3786"
             ],
             [
              0.5555555555555556,
              "#d8576b"
             ],
             [
              0.6666666666666666,
              "#ed7953"
             ],
             [
              0.7777777777777778,
              "#fb9f3a"
             ],
             [
              0.8888888888888888,
              "#fdca26"
             ],
             [
              1,
              "#f0f921"
             ]
            ],
            "type": "surface"
           }
          ],
          "table": [
           {
            "cells": {
             "fill": {
              "color": "#EBF0F8"
             },
             "line": {
              "color": "white"
             }
            },
            "header": {
             "fill": {
              "color": "#C8D4E3"
             },
             "line": {
              "color": "white"
             }
            },
            "type": "table"
           }
          ]
         },
         "layout": {
          "annotationdefaults": {
           "arrowcolor": "#2a3f5f",
           "arrowhead": 0,
           "arrowwidth": 1
          },
          "autotypenumbers": "strict",
          "coloraxis": {
           "colorbar": {
            "outlinewidth": 0,
            "ticks": ""
           }
          },
          "colorscale": {
           "diverging": [
            [
             0,
             "#8e0152"
            ],
            [
             0.1,
             "#c51b7d"
            ],
            [
             0.2,
             "#de77ae"
            ],
            [
             0.3,
             "#f1b6da"
            ],
            [
             0.4,
             "#fde0ef"
            ],
            [
             0.5,
             "#f7f7f7"
            ],
            [
             0.6,
             "#e6f5d0"
            ],
            [
             0.7,
             "#b8e186"
            ],
            [
             0.8,
             "#7fbc41"
            ],
            [
             0.9,
             "#4d9221"
            ],
            [
             1,
             "#276419"
            ]
           ],
           "sequential": [
            [
             0,
             "#0d0887"
            ],
            [
             0.1111111111111111,
             "#46039f"
            ],
            [
             0.2222222222222222,
             "#7201a8"
            ],
            [
             0.3333333333333333,
             "#9c179e"
            ],
            [
             0.4444444444444444,
             "#bd3786"
            ],
            [
             0.5555555555555556,
             "#d8576b"
            ],
            [
             0.6666666666666666,
             "#ed7953"
            ],
            [
             0.7777777777777778,
             "#fb9f3a"
            ],
            [
             0.8888888888888888,
             "#fdca26"
            ],
            [
             1,
             "#f0f921"
            ]
           ],
           "sequentialminus": [
            [
             0,
             "#0d0887"
            ],
            [
             0.1111111111111111,
             "#46039f"
            ],
            [
             0.2222222222222222,
             "#7201a8"
            ],
            [
             0.3333333333333333,
             "#9c179e"
            ],
            [
             0.4444444444444444,
             "#bd3786"
            ],
            [
             0.5555555555555556,
             "#d8576b"
            ],
            [
             0.6666666666666666,
             "#ed7953"
            ],
            [
             0.7777777777777778,
             "#fb9f3a"
            ],
            [
             0.8888888888888888,
             "#fdca26"
            ],
            [
             1,
             "#f0f921"
            ]
           ]
          },
          "colorway": [
           "#636efa",
           "#EF553B",
           "#00cc96",
           "#ab63fa",
           "#FFA15A",
           "#19d3f3",
           "#FF6692",
           "#B6E880",
           "#FF97FF",
           "#FECB52"
          ],
          "font": {
           "color": "#2a3f5f"
          },
          "geo": {
           "bgcolor": "white",
           "lakecolor": "white",
           "landcolor": "#E5ECF6",
           "showlakes": true,
           "showland": true,
           "subunitcolor": "white"
          },
          "hoverlabel": {
           "align": "left"
          },
          "hovermode": "closest",
          "mapbox": {
           "style": "light"
          },
          "paper_bgcolor": "white",
          "plot_bgcolor": "#E5ECF6",
          "polar": {
           "angularaxis": {
            "gridcolor": "white",
            "linecolor": "white",
            "ticks": ""
           },
           "bgcolor": "#E5ECF6",
           "radialaxis": {
            "gridcolor": "white",
            "linecolor": "white",
            "ticks": ""
           }
          },
          "scene": {
           "xaxis": {
            "backgroundcolor": "#E5ECF6",
            "gridcolor": "white",
            "gridwidth": 2,
            "linecolor": "white",
            "showbackground": true,
            "ticks": "",
            "zerolinecolor": "white"
           },
           "yaxis": {
            "backgroundcolor": "#E5ECF6",
            "gridcolor": "white",
            "gridwidth": 2,
            "linecolor": "white",
            "showbackground": true,
            "ticks": "",
            "zerolinecolor": "white"
           },
           "zaxis": {
            "backgroundcolor": "#E5ECF6",
            "gridcolor": "white",
            "gridwidth": 2,
            "linecolor": "white",
            "showbackground": true,
            "ticks": "",
            "zerolinecolor": "white"
           }
          },
          "shapedefaults": {
           "line": {
            "color": "#2a3f5f"
           }
          },
          "ternary": {
           "aaxis": {
            "gridcolor": "white",
            "linecolor": "white",
            "ticks": ""
           },
           "baxis": {
            "gridcolor": "white",
            "linecolor": "white",
            "ticks": ""
           },
           "bgcolor": "#E5ECF6",
           "caxis": {
            "gridcolor": "white",
            "linecolor": "white",
            "ticks": ""
           }
          },
          "title": {
           "x": 0.05
          },
          "xaxis": {
           "automargin": true,
           "gridcolor": "white",
           "linecolor": "white",
           "ticks": "",
           "title": {
            "standoff": 15
           },
           "zerolinecolor": "white",
           "zerolinewidth": 2
          },
          "yaxis": {
           "automargin": true,
           "gridcolor": "white",
           "linecolor": "white",
           "ticks": "",
           "title": {
            "standoff": 15
           },
           "zerolinecolor": "white",
           "zerolinewidth": 2
          }
         }
        },
        "title": {
         "text": "Historiograma de Audiências das Copas do Mundo",
         "x": 0.5,
         "y": 0.95
        },
        "xaxis": {
         "anchor": "y",
         "domain": [
          0,
          1
         ],
         "title": {
          "text": "Audiência dos jogos"
         }
        },
        "yaxis": {
         "anchor": "x",
         "domain": [
          0,
          1
         ],
         "title": {
          "text": "Frequência"
         }
        }
       }
      }
     },
     "metadata": {},
     "output_type": "display_data"
    }
   ],
   "source": [
    "#### solução com plotly\n",
    "\n",
    "fig = px.histogram(wc_audiencia, x=\"comparecimento\", nbins=35,)\n",
    "\n",
    "fig.update_layout(title={\n",
    "    'text' : hist_dados[\"title\"],\n",
    "    'y': 0.95,\n",
    "    'x': 0.5\n",
    "}, xaxis_title=hist_dados[\"xlabel\"], yaxis_title=hist_dados[\"ylabel\"])\n",
    "\n",
    "fig.update_traces(marker_color='crimson')\n",
    "\n",
    "fig.show()"
   ]
  },
  {
   "cell_type": "markdown",
   "metadata": {},
   "source": [
    "#### Q3.\n",
    "\n",
    "Apresente um gráfico de dispersão (scatter) dos atributos `gols_1` e `gols_2`. Isso representa a relação entre gols feitos e gols tomados por jogo. Há alguma relação interessante entre esses atributos?\n",
    "\n",
    "Para facilitar a visualização dos dados (já que tem muitos placares repetidos), aplique uma leve distorção aos dados para que cada ponto esteja deslocado aleatoriamente de seu valor original. Código apresentado a seguir\n",
    "```python\n",
    "gols = wc[['gols_1', 'gols_2']] * np.random.random((len(wc),2))\n",
    "```\n",
    "\n",
    "Você deve implementar essa visualização nas três bibliotecas que vimos:\n",
    "* Matplotlib\n",
    "* Seaborn\n",
    "* Plotly\n",
    "\n",
    "Garanta que o gráfico tenha pelo menos os atributos de título e rótulos de dimensão."
   ]
  },
  {
   "cell_type": "code",
   "execution_count": 7,
   "metadata": {},
   "outputs": [
    {
     "name": "stdout",
     "output_type": "stream",
     "text": [
      "\n"
     ]
    },
    {
     "data": {
      "image/png": "[encoded data removed]",
      "text/plain": [
       "<Figure size 640x480 with 1 Axes>"
      ]
     },
     "metadata": {},
     "output_type": "display_data"
    }
   ],
   "source": [
    "#### solução com matplotlib\n",
    "\n",
    "gols = wc[['gols_1', 'gols_2']] * np.random.random((len(wc), 2))\n",
    "\n",
    "# Dados de contextualização do gráfico\n",
    "scatter_dados = {\n",
    "    \"xlabel\" : \"Gols marcados\",\n",
    "    \"ylabel\" : \"Gols rebebidos\",\n",
    "    \"title\" : \"Relação entre gols recebidos e gols marcados\"\n",
    "}\n",
    "#### solução com matplotlib\n",
    "plt.scatter(x=gols.gols_1, y=gols.gols_2, c=\"orangered\")\n",
    "plt.xlabel(scatter_dados[\"xlabel\"])\n",
    "plt.ylabel(scatter_dados[\"ylabel\"])\n",
    "plt.title(scatter_dados[\"title\"])\n",
    "\n",
    "print()"
   ]
  },
  {
   "cell_type": "code",
   "execution_count": 8,
   "metadata": {},
   "outputs": [
    {
     "name": "stdout",
     "output_type": "stream",
     "text": [
      "\n"
     ]
    },
    {
     "data": {
      "image/png": "[encoded data removed]",
      "text/plain": [
       "<Figure size 640x480 with 1 Axes>"
      ]
     },
     "metadata": {},
     "output_type": "display_data"
    }
   ],
   "source": [
    "#### solução com seaborn\n",
    "\n",
    "sns.scatterplot(gols, x=\"gols_1\", y=\"gols_2\", color=\"navy\").set(\n",
    "    xlabel=scatter_dados[\"xlabel\"],\n",
    "    ylabel=scatter_dados[\"ylabel\"],\n",
    "    title=scatter_dados[\"title\"]\n",
    ")\n",
    "\n",
    "print()"
   ]
  },
  {
   "cell_type": "code",
   "execution_count": 9,
   "metadata": {},
   "outputs": [
    {
     "data": {
      "application/vnd.plotly.v1+json": {
       "config": {
        "plotlyServerURL": "https://plot.ly"
       },
       "data": [
        {
         "hovertemplate": "Gols marcados=%{x}<br>Gols rebebidos=%{y}<extra></extra>",
         "legendgroup": "",
         "marker": {
          "color": "crimson",
          "symbol": "circle"
         },
         "mode": "markers",
         "name": "",
         "showlegend": false,
         "type": "scattergl",
         "x": {
          "bdata": "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",
          "dtype": "f8"
         },
         "xaxis": "x",
         "y": {
          "bdata": "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",
          "dtype": "f8"
         },
         "yaxis": "y"
        }
       ],
       "layout": {
        "legend": {
         "tracegroupgap": 0
        },
        "margin": {
         "t": 60
        },
        "template": {
         "data": {
          "bar": [
           {
            "error_x": {
             "color": "#2a3f5f"
            },
            "error_y": {
             "color": "#2a3f5f"
            },
            "marker": {
             "line": {
              "color": "#E5ECF6",
              "width": 0.5
             },
             "pattern": {
              "fillmode": "overlay",
              "size": 10,
              "solidity": 0.2
             }
            },
            "type": "bar"
           }
          ],
          "barpolar": [
           {
            "marker": {
             "line": {
              "color": "#E5ECF6",
              "width": 0.5
             },
             "pattern": {
              "fillmode": "overlay",
              "size": 10,
              "solidity": 0.2
             }
            },
            "type": "barpolar"
           }
          ],
          "carpet": [
           {
            "aaxis": {
             "endlinecolor": "#2a3f5f",
             "gridcolor": "white",
             "linecolor": "white",
             "minorgridcolor": "white",
             "startlinecolor": "#2a3f5f"
            },
            "baxis": {
             "endlinecolor": "#2a3f5f",
             "gridcolor": "white",
             "linecolor": "white",
             "minorgridcolor": "white",
             "startlinecolor": "#2a3f5f"
            },
            "type": "carpet"
           }
          ],
          "choropleth": [
           {
            "colorbar": {
             "outlinewidth": 0,
             "ticks": ""
            },
            "type": "choropleth"
           }
          ],
          "contour": [
           {
            "colorbar": {
             "outlinewidth": 0,
             "ticks": ""
            },
            "colorscale": [
             [
              0,
              "#0d0887"
             ],
             [
              0.1111111111111111,
              "#46039f"
             ],
             [
              0.2222222222222222,
              "#7201a8"
             ],
             [
              0.3333333333333333,
              "#9c179e"
             ],
             [
              0.4444444444444444,
              "#bd3786"
             ],
             [
              0.5555555555555556,
              "#d8576b"
             ],
             [
              0.6666666666666666,
              "#ed7953"
             ],
             [
              0.7777777777777778,
              "#fb9f3a"
             ],
             [
              0.8888888888888888,
              "#fdca26"
             ],
             [
              1,
              "#f0f921"
             ]
            ],
            "type": "contour"
           }
          ],
          "contourcarpet": [
           {
            "colorbar": {
             "outlinewidth": 0,
             "ticks": ""
            },
            "type": "contourcarpet"
           }
          ],
          "heatmap": [
           {
            "colorbar": {
             "outlinewidth": 0,
             "ticks": ""
            },
            "colorscale": [
             [
              0,
              "#0d0887"
             ],
             [
              0.1111111111111111,
              "#46039f"
             ],
             [
              0.2222222222222222,
              "#7201a8"
             ],
             [
              0.3333333333333333,
              "#9c179e"
             ],
             [
              0.4444444444444444,
              "#bd3786"
             ],
             [
              0.5555555555555556,
              "#d8576b"
             ],
             [
              0.6666666666666666,
              "#ed7953"
             ],
             [
              0.7777777777777778,
              "#fb9f3a"
             ],
             [
              0.8888888888888888,
              "#fdca26"
             ],
             [
              1,
              "#f0f921"
             ]
            ],
            "type": "heatmap"
           }
          ],
          "histogram": [
           {
            "marker": {
             "pattern": {
              "fillmode": "overlay",
              "size": 10,
              "solidity": 0.2
             }
            },
            "type": "histogram"
           }
          ],
          "histogram2d": [
           {
            "colorbar": {
             "outlinewidth": 0,
             "ticks": ""
            },
            "colorscale": [
             [
              0,
              "#0d0887"
             ],
             [
              0.1111111111111111,
              "#46039f"
             ],
             [
              0.2222222222222222,
              "#7201a8"
             ],
             [
              0.3333333333333333,
              "#9c179e"
             ],
             [
              0.4444444444444444,
              "#bd3786"
             ],
             [
              0.5555555555555556,
              "#d8576b"
             ],
             [
              0.6666666666666666,
              "#ed7953"
             ],
             [
              0.7777777777777778,
              "#fb9f3a"
             ],
             [
              0.8888888888888888,
              "#fdca26"
             ],
             [
              1,
              "#f0f921"
             ]
            ],
            "type": "histogram2d"
           }
          ],
          "histogram2dcontour": [
           {
            "colorbar": {
             "outlinewidth": 0,
             "ticks": ""
            },
            "colorscale": [
             [
              0,
              "#0d0887"
             ],
             [
              0.1111111111111111,
              "#46039f"
             ],
             [
              0.2222222222222222,
              "#7201a8"
             ],
             [
              0.3333333333333333,
              "#9c179e"
             ],
             [
              0.4444444444444444,
              "#bd3786"
             ],
             [
              0.5555555555555556,
              "#d8576b"
             ],
             [
              0.6666666666666666,
              "#ed7953"
             ],
             [
              0.7777777777777778,
              "#fb9f3a"
             ],
             [
              0.8888888888888888,
              "#fdca26"
             ],
             [
              1,
              "#f0f921"
             ]
            ],
            "type": "histogram2dcontour"
           }
          ],
          "mesh3d": [
           {
            "colorbar": {
             "outlinewidth": 0,
             "ticks": ""
            },
            "type": "mesh3d"
           }
          ],
          "parcoords": [
           {
            "line": {
             "colorbar": {
              "outlinewidth": 0,
              "ticks": ""
             }
            },
            "type": "parcoords"
           }
          ],
          "pie": [
           {
            "automargin": true,
            "type": "pie"
           }
          ],
          "scatter": [
           {
            "fillpattern": {
             "fillmode": "overlay",
             "size": 10,
             "solidity": 0.2
            },
            "type": "scatter"
           }
          ],
          "scatter3d": [
           {
            "line": {
             "colorbar": {
              "outlinewidth": 0,
              "ticks": ""
             }
            },
            "marker": {
             "colorbar": {
              "outlinewidth": 0,
              "ticks": ""
             }
            },
            "type": "scatter3d"
           }
          ],
          "scattercarpet": [
           {
            "marker": {
             "colorbar": {
              "outlinewidth": 0,
              "ticks": ""
             }
            },
            "type": "scattercarpet"
           }
          ],
          "scattergeo": [
           {
            "marker": {
             "colorbar": {
              "outlinewidth": 0,
              "ticks": ""
             }
            },
            "type": "scattergeo"
           }
          ],
          "scattergl": [
           {
            "marker": {
             "colorbar": {
              "outlinewidth": 0,
              "ticks": ""
             }
            },
            "type": "scattergl"
           }
          ],
          "scattermap": [
           {
            "marker": {
             "colorbar": {
              "outlinewidth": 0,
              "ticks": ""
             }
            },
            "type": "scattermap"
           }
          ],
          "scattermapbox": [
           {
            "marker": {
             "colorbar": {
              "outlinewidth": 0,
              "ticks": ""
             }
            },
            "type": "scattermapbox"
           }
          ],
          "scatterpolar": [
           {
            "marker": {
             "colorbar": {
              "outlinewidth": 0,
              "ticks": ""
             }
            },
            "type": "scatterpolar"
           }
          ],
          "scatterpolargl": [
           {
            "marker": {
             "colorbar": {
              "outlinewidth": 0,
              "ticks": ""
             }
            },
            "type": "scatterpolargl"
           }
          ],
          "scatterternary": [
           {
            "marker": {
             "colorbar": {
              "outlinewidth": 0,
              "ticks": ""
             }
            },
            "type": "scatterternary"
           }
          ],
          "surface": [
           {
            "colorbar": {
             "outlinewidth": 0,
             "ticks": ""
            },
            "colorscale": [
             [
              0,
              "#0d0887"
             ],
             [
              0.1111111111111111,
              "#46039f"
             ],
             [
              0.2222222222222222,
              "#7201a8"
             ],
             [
              0.3333333333333333,
              "#9c179e"
             ],
             [
              0.4444444444444444,
              "#bd3786"
             ],
             [
              0.5555555555555556,
              "#d8576b"
             ],
             [
              0.6666666666666666,
              "#ed7953"
             ],
             [
              0.7777777777777778,
              "#fb9f3a"
             ],
             [
              0.8888888888888888,
              "#fdca26"
             ],
             [
              1,
              "#f0f921"
             ]
            ],
            "type": "surface"
           }
          ],
          "table": [
           {
            "cells": {
             "fill": {
              "color": "#EBF0F8"
             },
             "line": {
              "color": "white"
             }
            },
            "header": {
             "fill": {
              "color": "#C8D4E3"
             },
             "line": {
              "color": "white"
             }
            },
            "type": "table"
           }
          ]
         },
         "layout": {
          "annotationdefaults": {
           "arrowcolor": "#2a3f5f",
           "arrowhead": 0,
           "arrowwidth": 1
          },
          "autotypenumbers": "strict",
          "coloraxis": {
           "colorbar": {
            "outlinewidth": 0,
            "ticks": ""
           }
          },
          "colorscale": {
           "diverging": [
            [
             0,
             "#8e0152"
            ],
            [
             0.1,
             "#c51b7d"
            ],
            [
             0.2,
             "#de77ae"
            ],
            [
             0.3,
             "#f1b6da"
            ],
            [
             0.4,
             "#fde0ef"
            ],
            [
             0.5,
             "#f7f7f7"
            ],
            [
             0.6,
             "#e6f5d0"
            ],
            [
             0.7,
             "#b8e186"
            ],
            [
             0.8,
             "#7fbc41"
            ],
            [
             0.9,
             "#4d9221"
            ],
            [
             1,
             "#276419"
            ]
           ],
           "sequential": [
            [
             0,
             "#0d0887"
            ],
            [
             0.1111111111111111,
             "#46039f"
            ],
            [
             0.2222222222222222,
             "#7201a8"
            ],
            [
             0.3333333333333333,
             "#9c179e"
            ],
            [
             0.4444444444444444,
             "#bd3786"
            ],
            [
             0.5555555555555556,
             "#d8576b"
            ],
            [
             0.6666666666666666,
             "#ed7953"
            ],
            [
             0.7777777777777778,
             "#fb9f3a"
            ],
            [
             0.8888888888888888,
             "#fdca26"
            ],
            [
             1,
             "#f0f921"
            ]
           ],
           "sequentialminus": [
            [
             0,
             "#0d0887"
            ],
            [
             0.1111111111111111,
             "#46039f"
            ],
            [
             0.2222222222222222,
             "#7201a8"
            ],
            [
             0.3333333333333333,
             "#9c179e"
            ],
            [
             0.4444444444444444,
             "#bd3786"
            ],
            [
             0.5555555555555556,
             "#d8576b"
            ],
            [
             0.6666666666666666,
             "#ed7953"
            ],
            [
             0.7777777777777778,
             "#fb9f3a"
            ],
            [
             0.8888888888888888,
             "#fdca26"
            ],
            [
             1,
             "#f0f921"
            ]
           ]
          },
          "colorway": [
           "#636efa",
           "#EF553B",
           "#00cc96",
           "#ab63fa",
           "#FFA15A",
           "#19d3f3",
           "#FF6692",
           "#B6E880",
           "#FF97FF",
           "#FECB52"
          ],
          "font": {
           "color": "#2a3f5f"
          },
          "geo": {
           "bgcolor": "white",
           "lakecolor": "white",
           "landcolor": "#E5ECF6",
           "showlakes": true,
           "showland": true,
           "subunitcolor": "white"
          },
          "hoverlabel": {
           "align": "left"
          },
          "hovermode": "closest",
          "mapbox": {
           "style": "light"
          },
          "paper_bgcolor": "white",
          "plot_bgcolor": "#E5ECF6",
          "polar": {
           "angularaxis": {
            "gridcolor": "white",
            "linecolor": "white",
            "ticks": ""
           },
           "bgcolor": "#E5ECF6",
           "radialaxis": {
            "gridcolor": "white",
            "linecolor": "white",
            "ticks": ""
           }
          },
          "scene": {
           "xaxis": {
            "backgroundcolor": "#E5ECF6",
            "gridcolor": "white",
            "gridwidth": 2,
            "linecolor": "white",
            "showbackground": true,
            "ticks": "",
            "zerolinecolor": "white"
           },
           "yaxis": {
            "backgroundcolor": "#E5ECF6",
            "gridcolor": "white",
            "gridwidth": 2,
            "linecolor": "white",
            "showbackground": true,
            "ticks": "",
            "zerolinecolor": "white"
           },
           "zaxis": {
            "backgroundcolor": "#E5ECF6",
            "gridcolor": "white",
            "gridwidth": 2,
            "linecolor": "white",
            "showbackground": true,
            "ticks": "",
            "zerolinecolor": "white"
           }
          },
          "shapedefaults": {
           "line": {
            "color": "#2a3f5f"
           }
          },
          "ternary": {
           "aaxis": {
            "gridcolor": "white",
            "linecolor": "white",
            "ticks": ""
           },
           "baxis": {
            "gridcolor": "white",
            "linecolor": "white",
            "ticks": ""
           },
           "bgcolor": "#E5ECF6",
           "caxis": {
            "gridcolor": "white",
            "linecolor": "white",
            "ticks": ""
           }
          },
          "title": {
           "x": 0.05
          },
          "xaxis": {
           "automargin": true,
           "gridcolor": "white",
           "linecolor": "white",
           "ticks": "",
           "title": {
            "standoff": 15
           },
           "zerolinecolor": "white",
           "zerolinewidth": 2
          },
          "yaxis": {
           "automargin": true,
           "gridcolor": "white",
           "linecolor": "white",
           "ticks": "",
           "title": {
            "standoff": 15
           },
           "zerolinecolor": "white",
           "zerolinewidth": 2
          }
         }
        },
        "title": {
         "text": "Relação entre gols recebidos e gols marcados",
         "x": 0.5,
         "y": 0.95
        },
        "xaxis": {
         "anchor": "y",
         "domain": [
          0,
          1
         ],
         "title": {
          "text": "Gols marcados"
         }
        },
        "yaxis": {
         "anchor": "x",
         "domain": [
          0,
          1
         ],
         "title": {
          "text": "Gols rebebidos"
         }
        }
       }
      }
     },
     "metadata": {},
     "output_type": "display_data"
    }
   ],
   "source": [
    "#### solução com plotly\n",
    "\n",
    "fig = px.scatter(gols, x='gols_1', y='gols_2',\n",
    "                 labels={\n",
    "                     \"gols_1\" : scatter_dados[\"xlabel\"],\n",
    "                     \"gols_2\" : scatter_dados[\"ylabel\"]\n",
    "                 })\n",
    "\n",
    "fig.update_layout(title={\n",
    "    \"text\" : scatter_dados[\"title\"],\n",
    "    \"x\" : 0.5,\n",
    "    \"y\": 0.95\n",
    "})\n",
    "\n",
    "fig.update_traces(marker_color=\"crimson\")\n",
    "\n",
    "fig.show()"
   ]
  },
  {
   "cell_type": "markdown",
   "metadata": {},
   "source": [
    "#### Q4.\n",
    "\n",
    "Apresente um gráfico de barras com o top 10 países que mais participaram de copas do mundo, onde no eixo x devem estar o nome dos países e no eixo y a contagem de participações. Você deve separar a contagem de participações em copas femininas e masculinas, empilhando as barras de cada informação.\n",
    "\n",
    "No exemplo de barras empilhadas da galeria do matplotlib, imagine que a parte azul são as participações do país em copas masculinas, e em laranja as participações femininas:\n",
    "* https://matplotlib.org/stable/gallery/lines_bars_and_markers/bar_stacked.html\n",
    "\n",
    "Você deve implementar essa visualização nas três bibliotecas que vimos:\n",
    "* Matplotlib\n",
    "* Seaborn\n",
    "* Plotly\n",
    "\n",
    "Garanta que o gráfico tenha pelo menos os atributos:\n",
    "* título\n",
    "* rótulos de dimensão.\n",
    "* legenda"
   ]
  },
  {
   "cell_type": "code",
   "execution_count": 10,
   "metadata": {},
   "outputs": [
    {
     "name": "stderr",
     "output_type": "stream",
     "text": [
      "C:\\Users\\PDBD183\\AppData\\Local\\Temp\\ipykernel_12272\\1120532422.py:34: FutureWarning:\n",
      "\n",
      "The behavior of DataFrame concatenation with empty or all-NA entries is deprecated. In a future version, this will no longer exclude empty or all-NA columns when determining the result dtypes. To retain the old behavior, exclude the relevant entries before the concat operation.\n",
      "\n"
     ]
    },
    {
     "name": "stdout",
     "output_type": "stream",
     "text": [
      "\n"
     ]
    },
    {
     "data": {
      "image/png": "[encoded data removed]",
      "text/plain": [
       "<Figure size 640x480 with 1 Axes>"
      ]
     },
     "metadata": {},
     "output_type": "display_data"
    }
   ],
   "source": [
    "#### solução com matplotlib\n",
    "\n",
    "bar_dados = {\n",
    "    \"xlabel\" : \"Países\",\n",
    "    \"ylabel\" : \"Número de participações\",\n",
    "    \"title\" : \"Os 10 Países que Mais Participaram Copa\"\n",
    "}\n",
    "\n",
    "\n",
    "\n",
    "# Separando os dados a serem utilizados para time_1 e time_2\n",
    "time_1 = wc[[\"time_1\", \"ano\", \"copa\"]]\n",
    "time_2 = wc[[\"time_2\", \"ano\", \"copa\"]]\n",
    "\n",
    "# Renomenado colunas\n",
    "time_1.columns = [\"país\", \"participações\", \"copa\"]\n",
    "time_2.columns = [\"país\", \"participações\", \"copa\"]\n",
    "\n",
    "# Juntando as duas listas descatando dados repetidos e agrupando por país e copa\n",
    "copas = pd.concat([time_1, time_2]).groupby(by=[\"país\", \"copa\"])[\"participações\"].nunique().reset_index()\n",
    "\n",
    "# Somando todas as participações de cada país\n",
    "copas_totais = copas.groupby(by=\"país\")[\"participações\"].sum().reset_index()\n",
    "# Nomes dos 10 paíse com mais participações da copa ordenados\n",
    "top10_paises = copas_totais.sort_values(by=\"participações\", ascending=False).head(10)[\"país\"]\n",
    "\n",
    "\n",
    "# Criação do novo dataframe com as participações dos 10 países que mais participaram da copa\n",
    "top10 = pd.DataFrame(columns=[\"país\", \"participações\", \"copa\"])\n",
    "\n",
    "for pais in top10_paises:\n",
    "    pais_copas = copas.loc[copas[\"país\"] == pais]\n",
    "\n",
    "    top10 = pd.concat([top10, pais_copas]).reset_index(drop=True)\n",
    "\n",
    "\n",
    "part_m = top10.loc[top10.copa == \"Masculina\", \"participações\"]\n",
    "part_f = top10.loc[top10.copa == \"Feminina\", \"participações\"]\n",
    "\n",
    "bar_m = plt.bar(top10_paises, part_m, label=\"Masculina\", color=\"orangered\")\n",
    "bar_f = plt.bar(top10_paises, part_f, bottom=part_m, label=\"Feminina\", color=\"orange\")\n",
    "plt.bar_label(bar_m, label_type=\"center\")\n",
    "plt.bar_label(bar_f, label_type=\"center\")\n",
    "\n",
    "plt.xlabel(bar_dados[\"xlabel\"])\n",
    "plt.ylabel(bar_dados[\"ylabel\"])\n",
    "plt.xticks(rotation = 65)\n",
    "plt.title(bar_dados[\"title\"])\n",
    "plt.legend()\n",
    "\n",
    "print()\n",
    "        "
   ]
  },
  {
   "cell_type": "code",
   "execution_count": 11,
   "metadata": {},
   "outputs": [
    {
     "name": "stdout",
     "output_type": "stream",
     "text": [
      "      país participações       copa\n",
      "0   Brazil             9   Feminina\n",
      "1   Brazil            22  Masculina\n",
      "..     ...           ...        ...\n",
      "18   Spain             3   Feminina\n",
      "19   Spain            16  Masculina\n",
      "\n",
      "[20 rows x 3 columns]\n"
     ]
    },
    {
     "data": {
      "image/png": "[encoded data removed]",
      "text/plain": [
       "<Figure size 1000x400 with 1 Axes>"
      ]
     },
     "metadata": {},
     "output_type": "display_data"
    }
   ],
   "source": [
    "#### solução com seaborn\n",
    "\n",
    "plt.figure(figsize=(10, 4))\n",
    "\n",
    "# Ordenar os dados para que 'Feminina' venha depois de 'Masculina'\n",
    "top10_sorted = top10.sort_values(by=\"copa\", ascending=False)\n",
    "\n",
    "\n",
    "palette = sns.set_palette(palette=\"mako\", n_colors=5)\n",
    "\n",
    "sns.barplot(data=top10_sorted, x=\"país\", y=\"participações\", hue=\"copa\", dodge=False).set(\n",
    "    xlabel=bar_dados[\"xlabel\"],\n",
    "    ylabel=bar_dados[\"ylabel\"],\n",
    "    title=bar_dados[\"title\"]\n",
    ")\n",
    "\n",
    "print(top10)"
   ]
  },
  {
   "cell_type": "code",
   "execution_count": 12,
   "metadata": {},
   "outputs": [
    {
     "data": {
      "application/vnd.plotly.v1+json": {
       "config": {
        "plotlyServerURL": "https://plot.ly"
       },
       "data": [
        {
         "hovertemplate": "copa=Feminina<br>Países=%{x}<br>Número de participações=%{y}<extra></extra>",
         "legendgroup": "Feminina",
         "marker": {
          "color": "#9e020f",
          "pattern": {
           "shape": ""
          }
         },
         "name": "Feminina",
         "orientation": "v",
         "showlegend": true,
         "textposition": "auto",
         "texttemplate": "%{y}",
         "type": "bar",
         "x": [
          "Brazil",
          "Argentina",
          "England",
          "Italy",
          "France",
          "Sweden",
          "Germany",
          "United States",
          "Mexico",
          "Spain"
         ],
         "xaxis": "x",
         "y": [
          9,
          4,
          6,
          4,
          5,
          9,
          9,
          9,
          3,
          3
         ],
         "yaxis": "y"
        },
        {
         "hovertemplate": "copa=Masculina<br>Países=%{x}<br>Número de participações=%{y}<extra></extra>",
         "legendgroup": "Masculina",
         "marker": {
          "color": "crimson",
          "pattern": {
           "shape": ""
          }
         },
         "name": "Masculina",
         "orientation": "v",
         "showlegend": true,
         "textposition": "auto",
         "texttemplate": "%{y}",
         "type": "bar",
         "x": [
          "Brazil",
          "Argentina",
          "England",
          "Italy",
          "France",
          "Sweden",
          "Germany",
          "United States",
          "Mexico",
          "Spain"
         ],
         "xaxis": "x",
         "y": [
          22,
          18,
          16,
          18,
          16,
          12,
          11,
          11,
          17,
          16
         ],
         "yaxis": "y"
        }
       ],
       "layout": {
        "barmode": "relative",
        "legend": {
         "title": {
          "text": "copa"
         },
         "tracegroupgap": 0
        },
        "margin": {
         "t": 60
        },
        "template": {
         "data": {
          "bar": [
           {
            "error_x": {
             "color": "#2a3f5f"
            },
            "error_y": {
             "color": "#2a3f5f"
            },
            "marker": {
             "line": {
              "color": "#E5ECF6",
              "width": 0.5
             },
             "pattern": {
              "fillmode": "overlay",
              "size": 10,
              "solidity": 0.2
             }
            },
            "type": "bar"
           }
          ],
          "barpolar": [
           {
            "marker": {
             "line": {
              "color": "#E5ECF6",
              "width": 0.5
             },
             "pattern": {
              "fillmode": "overlay",
              "size": 10,
              "solidity": 0.2
             }
            },
            "type": "barpolar"
           }
          ],
          "carpet": [
           {
            "aaxis": {
             "endlinecolor": "#2a3f5f",
             "gridcolor": "white",
             "linecolor": "white",
             "minorgridcolor": "white",
             "startlinecolor": "#2a3f5f"
            },
            "baxis": {
             "endlinecolor": "#2a3f5f",
             "gridcolor": "white",
             "linecolor": "white",
             "minorgridcolor": "white",
             "startlinecolor": "#2a3f5f"
            },
            "type": "carpet"
           }
          ],
          "choropleth": [
           {
            "colorbar": {
             "outlinewidth": 0,
             "ticks": ""
            },
            "type": "choropleth"
           }
          ],
          "contour": [
           {
            "colorbar": {
             "outlinewidth": 0,
             "ticks": ""
            },
            "colorscale": [
             [
              0,
              "#0d0887"
             ],
             [
              0.1111111111111111,
              "#46039f"
             ],
             [
              0.2222222222222222,
              "#7201a8"
             ],
             [
              0.3333333333333333,
              "#9c179e"
             ],
             [
              0.4444444444444444,
              "#bd3786"
             ],
             [
              0.5555555555555556,
              "#d8576b"
             ],
             [
              0.6666666666666666,
              "#ed7953"
             ],
             [
              0.7777777777777778,
              "#fb9f3a"
             ],
             [
              0.8888888888888888,
              "#fdca26"
             ],
             [
              1,
              "#f0f921"
             ]
            ],
            "type": "contour"
           }
          ],
          "contourcarpet": [
           {
            "colorbar": {
             "outlinewidth": 0,
             "ticks": ""
            },
            "type": "contourcarpet"
           }
          ],
          "heatmap": [
           {
            "colorbar": {
             "outlinewidth": 0,
             "ticks": ""
            },
            "colorscale": [
             [
              0,
              "#0d0887"
             ],
             [
              0.1111111111111111,
              "#46039f"
             ],
             [
              0.2222222222222222,
              "#7201a8"
             ],
             [
              0.3333333333333333,
              "#9c179e"
             ],
             [
              0.4444444444444444,
              "#bd3786"
             ],
             [
              0.5555555555555556,
              "#d8576b"
             ],
             [
              0.6666666666666666,
              "#ed7953"
             ],
             [
              0.7777777777777778,
              "#fb9f3a"
             ],
             [
              0.8888888888888888,
              "#fdca26"
             ],
             [
              1,
              "#f0f921"
             ]
            ],
            "type": "heatmap"
           }
          ],
          "histogram": [
           {
            "marker": {
             "pattern": {
              "fillmode": "overlay",
              "size": 10,
              "solidity": 0.2
             }
            },
            "type": "histogram"
           }
          ],
          "histogram2d": [
           {
            "colorbar": {
             "outlinewidth": 0,
             "ticks": ""
            },
            "colorscale": [
             [
              0,
              "#0d0887"
             ],
             [
              0.1111111111111111,
              "#46039f"
             ],
             [
              0.2222222222222222,
              "#7201a8"
             ],
             [
              0.3333333333333333,
              "#9c179e"
             ],
             [
              0.4444444444444444,
              "#bd3786"
             ],
             [
              0.5555555555555556,
              "#d8576b"
             ],
             [
              0.6666666666666666,
              "#ed7953"
             ],
             [
              0.7777777777777778,
              "#fb9f3a"
             ],
             [
              0.8888888888888888,
              "#fdca26"
             ],
             [
              1,
              "#f0f921"
             ]
            ],
            "type": "histogram2d"
           }
          ],
          "histogram2dcontour": [
           {
            "colorbar": {
             "outlinewidth": 0,
             "ticks": ""
            },
            "colorscale": [
             [
              0,
              "#0d0887"
             ],
             [
              0.1111111111111111,
              "#46039f"
             ],
             [
              0.2222222222222222,
              "#7201a8"
             ],
             [
              0.3333333333333333,
              "#9c179e"
             ],
             [
              0.4444444444444444,
              "#bd3786"
             ],
             [
              0.5555555555555556,
              "#d8576b"
             ],
             [
              0.6666666666666666,
              "#ed7953"
             ],
             [
              0.7777777777777778,
              "#fb9f3a"
             ],
             [
              0.8888888888888888,
              "#fdca26"
             ],
             [
              1,
              "#f0f921"
             ]
            ],
            "type": "histogram2dcontour"
           }
          ],
          "mesh3d": [
           {
            "colorbar": {
             "outlinewidth": 0,
             "ticks": ""
            },
            "type": "mesh3d"
           }
          ],
          "parcoords": [
           {
            "line": {
             "colorbar": {
              "outlinewidth": 0,
              "ticks": ""
             }
            },
            "type": "parcoords"
           }
          ],
          "pie": [
           {
            "automargin": true,
            "type": "pie"
           }
          ],
          "scatter": [
           {
            "fillpattern": {
             "fillmode": "overlay",
             "size": 10,
             "solidity": 0.2
            },
            "type": "scatter"
           }
          ],
          "scatter3d": [
           {
            "line": {
             "colorbar": {
              "outlinewidth": 0,
              "ticks": ""
             }
            },
            "marker": {
             "colorbar": {
              "outlinewidth": 0,
              "ticks": ""
             }
            },
            "type": "scatter3d"
           }
          ],
          "scattercarpet": [
           {
            "marker": {
             "colorbar": {
              "outlinewidth": 0,
              "ticks": ""
             }
            },
            "type": "scattercarpet"
           }
          ],
          "scattergeo": [
           {
            "marker": {
             "colorbar": {
              "outlinewidth": 0,
              "ticks": ""
             }
            },
            "type": "scattergeo"
           }
          ],
          "scattergl": [
           {
            "marker": {
             "colorbar": {
              "outlinewidth": 0,
              "ticks": ""
             }
            },
            "type": "scattergl"
           }
          ],
          "scattermap": [
           {
            "marker": {
             "colorbar": {
              "outlinewidth": 0,
              "ticks": ""
             }
            },
            "type": "scattermap"
           }
          ],
          "scattermapbox": [
           {
            "marker": {
             "colorbar": {
              "outlinewidth": 0,
              "ticks": ""
             }
            },
            "type": "scattermapbox"
           }
          ],
          "scatterpolar": [
           {
            "marker": {
             "colorbar": {
              "outlinewidth": 0,
              "ticks": ""
             }
            },
            "type": "scatterpolar"
           }
          ],
          "scatterpolargl": [
           {
            "marker": {
             "colorbar": {
              "outlinewidth": 0,
              "ticks": ""
             }
            },
            "type": "scatterpolargl"
           }
          ],
          "scatterternary": [
           {
            "marker": {
             "colorbar": {
              "outlinewidth": 0,
              "ticks": ""
             }
            },
            "type": "scatterternary"
           }
          ],
          "surface": [
           {
            "colorbar": {
             "outlinewidth": 0,
             "ticks": ""
            },
            "colorscale": [
             [
              0,
              "#0d0887"
             ],
             [
              0.1111111111111111,
              "#46039f"
             ],
             [
              0.2222222222222222,
              "#7201a8"
             ],
             [
              0.3333333333333333,
              "#9c179e"
             ],
             [
              0.4444444444444444,
              "#bd3786"
             ],
             [
              0.5555555555555556,
              "#d8576b"
             ],
             [
              0.6666666666666666,
              "#ed7953"
             ],
             [
              0.7777777777777778,
              "#fb9f3a"
             ],
             [
              0.8888888888888888,
              "#fdca26"
             ],
             [
              1,
              "#f0f921"
             ]
            ],
            "type": "surface"
           }
          ],
          "table": [
           {
            "cells": {
             "fill": {
              "color": "#EBF0F8"
             },
             "line": {
              "color": "white"
             }
            },
            "header": {
             "fill": {
              "color": "#C8D4E3"
             },
             "line": {
              "color": "white"
             }
            },
            "type": "table"
           }
          ]
         },
         "layout": {
          "annotationdefaults": {
           "arrowcolor": "#2a3f5f",
           "arrowhead": 0,
           "arrowwidth": 1
          },
          "autotypenumbers": "strict",
          "coloraxis": {
           "colorbar": {
            "outlinewidth": 0,
            "ticks": ""
           }
          },
          "colorscale": {
           "diverging": [
            [
             0,
             "#8e0152"
            ],
            [
             0.1,
             "#c51b7d"
            ],
            [
             0.2,
             "#de77ae"
            ],
            [
             0.3,
             "#f1b6da"
            ],
            [
             0.4,
             "#fde0ef"
            ],
            [
             0.5,
             "#f7f7f7"
            ],
            [
             0.6,
             "#e6f5d0"
            ],
            [
             0.7,
             "#b8e186"
            ],
            [
             0.8,
             "#7fbc41"
            ],
            [
             0.9,
             "#4d9221"
            ],
            [
             1,
             "#276419"
            ]
           ],
           "sequential": [
            [
             0,
             "#0d0887"
            ],
            [
             0.1111111111111111,
             "#46039f"
            ],
            [
             0.2222222222222222,
             "#7201a8"
            ],
            [
             0.3333333333333333,
             "#9c179e"
            ],
            [
             0.4444444444444444,
             "#bd3786"
            ],
            [
             0.5555555555555556,
             "#d8576b"
            ],
            [
             0.6666666666666666,
             "#ed7953"
            ],
            [
             0.7777777777777778,
             "#fb9f3a"
            ],
            [
             0.8888888888888888,
             "#fdca26"
            ],
            [
             1,
             "#f0f921"
            ]
           ],
           "sequentialminus": [
            [
             0,
             "#0d0887"
            ],
            [
             0.1111111111111111,
             "#46039f"
            ],
            [
             0.2222222222222222,
             "#7201a8"
            ],
            [
             0.3333333333333333,
             "#9c179e"
            ],
            [
             0.4444444444444444,
             "#bd3786"
            ],
            [
             0.5555555555555556,
             "#d8576b"
            ],
            [
             0.6666666666666666,
             "#ed7953"
            ],
            [
             0.7777777777777778,
             "#fb9f3a"
            ],
            [
             0.8888888888888888,
             "#fdca26"
            ],
            [
             1,
             "#f0f921"
            ]
           ]
          },
          "colorway": [
           "#636efa",
           "#EF553B",
           "#00cc96",
           "#ab63fa",
           "#FFA15A",
           "#19d3f3",
           "#FF6692",
           "#B6E880",
           "#FF97FF",
           "#FECB52"
          ],
          "font": {
           "color": "#2a3f5f"
          },
          "geo": {
           "bgcolor": "white",
           "lakecolor": "white",
           "landcolor": "#E5ECF6",
           "showlakes": true,
           "showland": true,
           "subunitcolor": "white"
          },
          "hoverlabel": {
           "align": "left"
          },
          "hovermode": "closest",
          "mapbox": {
           "style": "light"
          },
          "paper_bgcolor": "white",
          "plot_bgcolor": "#E5ECF6",
          "polar": {
           "angularaxis": {
            "gridcolor": "white",
            "linecolor": "white",
            "ticks": ""
           },
           "bgcolor": "#E5ECF6",
           "radialaxis": {
            "gridcolor": "white",
            "linecolor": "white",
            "ticks": ""
           }
          },
          "scene": {
           "xaxis": {
            "backgroundcolor": "#E5ECF6",
            "gridcolor": "white",
            "gridwidth": 2,
            "linecolor": "white",
            "showbackground": true,
            "ticks": "",
            "zerolinecolor": "white"
           },
           "yaxis": {
            "backgroundcolor": "#E5ECF6",
            "gridcolor": "white",
            "gridwidth": 2,
            "linecolor": "white",
            "showbackground": true,
            "ticks": "",
            "zerolinecolor": "white"
           },
           "zaxis": {
            "backgroundcolor": "#E5ECF6",
            "gridcolor": "white",
            "gridwidth": 2,
            "linecolor": "white",
            "showbackground": true,
            "ticks": "",
            "zerolinecolor": "white"
           }
          },
          "shapedefaults": {
           "line": {
            "color": "#2a3f5f"
           }
          },
          "ternary": {
           "aaxis": {
            "gridcolor": "white",
            "linecolor": "white",
            "ticks": ""
           },
           "baxis": {
            "gridcolor": "white",
            "linecolor": "white",
            "ticks": ""
           },
           "bgcolor": "#E5ECF6",
           "caxis": {
            "gridcolor": "white",
            "linecolor": "white",
            "ticks": ""
           }
          },
          "title": {
           "x": 0.05
          },
          "xaxis": {
           "automargin": true,
           "gridcolor": "white",
           "linecolor": "white",
           "ticks": "",
           "title": {
            "standoff": 15
           },
           "zerolinecolor": "white",
           "zerolinewidth": 2
          },
          "yaxis": {
           "automargin": true,
           "gridcolor": "white",
           "linecolor": "white",
           "ticks": "",
           "title": {
            "standoff": 15
           },
           "zerolinecolor": "white",
           "zerolinewidth": 2
          }
         }
        },
        "title": {
         "text": "Os 10 Países que Mais Participaram Copa",
         "x": 0.5,
         "y": 0.95
        },
        "xaxis": {
         "anchor": "y",
         "domain": [
          0,
          1
         ],
         "title": {
          "text": "Países"
         }
        },
        "yaxis": {
         "anchor": "x",
         "domain": [
          0,
          1
         ],
         "title": {
          "text": "Número de participações"
         }
        }
       }
      }
     },
     "metadata": {},
     "output_type": "display_data"
    }
   ],
   "source": [
    "#### solução com plotly\n",
    "\n",
    "fig = px.bar(top10, x=\"país\", y=\"participações\", color=\"copa\", text_auto=True,\n",
    "             color_discrete_map={\"Masculina\" : \"crimson\", \"Feminina\" : \"#9e020f\"},\n",
    "             labels={\n",
    "                 \"país\" : bar_dados[\"xlabel\"],\n",
    "                 \"participações\" : bar_dados[\"ylabel\"]\n",
    "             })\n",
    "\n",
    "fig.update_layout(title={\n",
    "    \"text\" : bar_dados[\"title\"],\n",
    "    \"x\" : 0.5,\n",
    "    \"y\" : 0.95\n",
    "})\n",
    "\n",
    "fig.show()"
   ]
  },
  {
   "cell_type": "markdown",
   "metadata": {},
   "source": [
    "#### Q5.\n",
    "\n",
    "Vamos fazer um compilado com as estatísticas históricas de copas do mundo!\n",
    "\n",
    "Com a biblioteca de sua preferência você deve criar 4 subplots organizados em um grid de 2 linhas e 2 colunas. Eles devem conter os seguintes gráficos:\n",
    "* Linha 1, coluna 1: Gráfico de barras com a quantidade de jogos que aconteceram por ano\n",
    "* Linha 1, coluna 2: Gráfico de área (referências a seguir) com o total de gols por ano, separando as informações de `gols_1` e `gols_2` para distinguir gols em casa e do time visitante.\n",
    "* Linha 2, coluna 1: Gráfico de área com o total de cartões por ano, separando as informações de cartões amarelos e cartões vermelhos, mas agregando cartões do time 1 ou time 2. Ou seja, uma área com `cartao_amarelo_1 + cartao_amarelo_2` e outra área com `cartao_vermelho_1 + cartao_vermelho_2`.\n",
    "* Linha 2, coluna 2: Gráfico de barras com o total de gols contra por ano, somando `gols_contra_1` e `gols_contra_2`.\n",
    "\n",
    "Referências sobre gráfico de área\n",
    "* Matplotlib: https://matplotlib.org/stable/gallery/lines_bars_and_markers/stackplot_demo.html#sphx-glr-gallery-lines-bars-and-markers-stackplot-demo-py\n",
    "* Pandas + Matplotlib: https://pandas.pydata.org/docs/reference/api/pandas.DataFrame.plot.area.html\n",
    "* Seaborn: https://seaborn.pydata.org/generated/seaborn.objects.Area.html\n",
    "* Plotly: https://plotly.com/python/filled-area-plots/"
   ]
  },
  {
   "cell_type": "code",
   "execution_count": 13,
   "metadata": {},
   "outputs": [
    {
     "data": {
      "application/vnd.plotly.v1+json": {
       "config": {
        "plotlyServerURL": "https://plot.ly"
       },
       "data": [
        {
         "name": "Gols",
         "type": "histogram",
         "x": {
          "bdata": "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",
          "dtype": "i2"
         },
         "xaxis": "x",
         "yaxis": "y"
        },
        {
         "marker": {
          "color": 1,
          "coloraxis": "coloraxis"
         },
         "name": "Gols Contra",
         "type": "bar",
         "x": {
          "bdata": "igeOB5IHngeiB6YHqgeuB7IHtge6B74HwgfGB8cHygfLB84HzwfSB9MH1gfXB9oH2wfeB98H4gfjB+YH5wc=",
          "dtype": "i2"
         },
         "xaxis": "x4",
         "y": {
          "bdata": "AQACAQQAAAIBAwMBAgACAQAGAwMBBAMCAgUGDAgDCA==",
          "dtype": "i1"
         },
         "yaxis": "y4"
        },
        {
         "fill": "tozeroy",
         "name": "Time da Casa",
         "type": "scatter",
         "x": {
          "bdata": "igeOB5IHngeiB6YHqgeuB7IHtge6B74HwgfGB8cHygfLB84HzwfSB9MH1gfXB9oH2wfeB98H4gfjB+YH5wc=",
          "dtype": "i2"
         },
         "xaxis": "x2",
         "y": {
          "bdata": "OzA9RWlYRUVIM09hSkM0U0JiTFlAVkdMMFFcW1ZlYA==",
          "dtype": "i1"
         },
         "yaxis": "y2"
        },
        {
         "fill": "tozeroy",
         "name": "Time Visitante",
         "type": "scatter",
         "x": {
          "bdata": "igeOB5IHngeiB6YHqgeuB7IHtge6B74HwgfGB8cHygfLB84HzwfSB9MH1gfXB9oH2wfeB98H4gfjB+YH5wc=",
          "dtype": "i2"
         },
         "xaxis": "x2",
         "y": {
          "bdata": "CxYXEyMmFBQXLhcxOjAvOiFJLkgpPShFJlo2TjxHRA==",
          "dtype": "i1"
         },
         "yaxis": "y2"
        },
        {
         "fill": "tozeroy",
         "name": "Cartões Amarelos",
         "type": "scatter",
         "x": {
          "bdata": "igeOB5IHngeiB6YHqgeuB7IHtge6B74HwgfGB8cHygfLB84HzwfSB9MH1gfXB9oH2wfeB98H4gfjB+YH5wc=",
          "dtype": "i2"
         },
         "xaxis": "x3",
         "y": {
          "bdata": "AAAAAAAAAQAAAAAAAQAVADMAVwA7AGMAigCoACAA5ABGAP8ATQAKAUEARgFRAPcAPwC5AG8A3QB/AOMAbwA=",
          "dtype": "i2"
         },
         "yaxis": "y3"
        },
        {
         "fill": "tozeroy",
         "name": "Cartões Vermelhos",
         "type": "scatter",
         "x": {
          "bdata": "igeOB5IHngeiB6YHqgeuB7IHtge6B74HwgfGB8cHygfLB84HzwfSB9MH1gfXB9oH2wfeB98H4gfjB+YH5wc=",
          "dtype": "i2"
         },
         "xaxis": "x3",
         "y": {
          "bdata": "AQEEAAMDBgUABQMFBw0BCAIRBAgBCAAGBAcCAgECBA==",
          "dtype": "i1"
         },
         "yaxis": "y3"
        }
       ],
       "layout": {
        "annotations": [
         {
          "font": {
           "size": 16
          },
          "showarrow": false,
          "text": "Número de Jogos",
          "x": 0.225,
          "xanchor": "center",
          "xref": "paper",
          "y": 1,
          "yanchor": "bottom",
          "yref": "paper"
         },
         {
          "font": {
           "size": 16
          },
          "showarrow": false,
          "text": "Número de Gols",
          "x": 0.775,
          "xanchor": "center",
          "xref": "paper",
          "y": 1,
          "yanchor": "bottom",
          "yref": "paper"
         },
         {
          "font": {
           "size": 16
          },
          "showarrow": false,
          "text": "Cartões Amarelos e Vermelhos",
          "x": 0.225,
          "xanchor": "center",
          "xref": "paper",
          "y": 0.375,
          "yanchor": "bottom",
          "yref": "paper"
         },
         {
          "font": {
           "size": 16
          },
          "showarrow": false,
          "text": "Gols Contra",
          "x": 0.775,
          "xanchor": "center",
          "xref": "paper",
          "y": 0.375,
          "yanchor": "bottom",
          "yref": "paper"
         }
        ],
        "template": {
         "data": {
          "bar": [
           {
            "error_x": {
             "color": "#2a3f5f"
            },
            "error_y": {
             "color": "#2a3f5f"
            },
            "marker": {
             "line": {
              "color": "#E5ECF6",
              "width": 0.5
             },
             "pattern": {
              "fillmode": "overlay",
              "size": 10,
              "solidity": 0.2
             }
            },
            "type": "bar"
           }
          ],
          "barpolar": [
           {
            "marker": {
             "line": {
              "color": "#E5ECF6",
              "width": 0.5
             },
             "pattern": {
              "fillmode": "overlay",
              "size": 10,
              "solidity": 0.2
             }
            },
            "type": "barpolar"
           }
          ],
          "carpet": [
           {
            "aaxis": {
             "endlinecolor": "#2a3f5f",
             "gridcolor": "white",
             "linecolor": "white",
             "minorgridcolor": "white",
             "startlinecolor": "#2a3f5f"
            },
            "baxis": {
             "endlinecolor": "#2a3f5f",
             "gridcolor": "white",
             "linecolor": "white",
             "minorgridcolor": "white",
             "startlinecolor": "#2a3f5f"
            },
            "type": "carpet"
           }
          ],
          "choropleth": [
           {
            "colorbar": {
             "outlinewidth": 0,
             "ticks": ""
            },
            "type": "choropleth"
           }
          ],
          "contour": [
           {
            "colorbar": {
             "outlinewidth": 0,
             "ticks": ""
            },
            "colorscale": [
             [
              0,
              "#0d0887"
             ],
             [
              0.1111111111111111,
              "#46039f"
             ],
             [
              0.2222222222222222,
              "#7201a8"
             ],
             [
              0.3333333333333333,
              "#9c179e"
             ],
             [
              0.4444444444444444,
              "#bd3786"
             ],
             [
              0.5555555555555556,
              "#d8576b"
             ],
             [
              0.6666666666666666,
              "#ed7953"
             ],
             [
              0.7777777777777778,
              "#fb9f3a"
             ],
             [
              0.8888888888888888,
              "#fdca26"
             ],
             [
              1,
              "#f0f921"
             ]
            ],
            "type": "contour"
           }
          ],
          "contourcarpet": [
           {
            "colorbar": {
             "outlinewidth": 0,
             "ticks": ""
            },
            "type": "contourcarpet"
           }
          ],
          "heatmap": [
           {
            "colorbar": {
             "outlinewidth": 0,
             "ticks": ""
            },
            "colorscale": [
             [
              0,
              "#0d0887"
             ],
             [
              0.1111111111111111,
              "#46039f"
             ],
             [
              0.2222222222222222,
              "#7201a8"
             ],
             [
              0.3333333333333333,
              "#9c179e"
             ],
             [
              0.4444444444444444,
              "#bd3786"
             ],
             [
              0.5555555555555556,
              "#d8576b"
             ],
             [
              0.6666666666666666,
              "#ed7953"
             ],
             [
              0.7777777777777778,
              "#fb9f3a"
             ],
             [
              0.8888888888888888,
              "#fdca26"
             ],
             [
              1,
              "#f0f921"
             ]
            ],
            "type": "heatmap"
           }
          ],
          "histogram": [
           {
            "marker": {
             "pattern": {
              "fillmode": "overlay",
              "size": 10,
              "solidity": 0.2
             }
            },
            "type": "histogram"
           }
          ],
          "histogram2d": [
           {
            "colorbar": {
             "outlinewidth": 0,
             "ticks": ""
            },
            "colorscale": [
             [
              0,
              "#0d0887"
             ],
             [
              0.1111111111111111,
              "#46039f"
             ],
             [
              0.2222222222222222,
              "#7201a8"
             ],
             [
              0.3333333333333333,
              "#9c179e"
             ],
             [
              0.4444444444444444,
              "#bd3786"
             ],
             [
              0.5555555555555556,
              "#d8576b"
             ],
             [
              0.6666666666666666,
              "#ed7953"
             ],
             [
              0.7777777777777778,
              "#fb9f3a"
             ],
             [
              0.8888888888888888,
              "#fdca26"
             ],
             [
              1,
              "#f0f921"
             ]
            ],
            "type": "histogram2d"
           }
          ],
          "histogram2dcontour": [
           {
            "colorbar": {
             "outlinewidth": 0,
             "ticks": ""
            },
            "colorscale": [
             [
              0,
              "#0d0887"
             ],
             [
              0.1111111111111111,
              "#46039f"
             ],
             [
              0.2222222222222222,
              "#7201a8"
             ],
             [
              0.3333333333333333,
              "#9c179e"
             ],
             [
              0.4444444444444444,
              "#bd3786"
             ],
             [
              0.5555555555555556,
              "#d8576b"
             ],
             [
              0.6666666666666666,
              "#ed7953"
             ],
             [
              0.7777777777777778,
              "#fb9f3a"
             ],
             [
              0.8888888888888888,
              "#fdca26"
             ],
             [
              1,
              "#f0f921"
             ]
            ],
            "type": "histogram2dcontour"
           }
          ],
          "mesh3d": [
           {
            "colorbar": {
             "outlinewidth": 0,
             "ticks": ""
            },
            "type": "mesh3d"
           }
          ],
          "parcoords": [
           {
            "line": {
             "colorbar": {
              "outlinewidth": 0,
              "ticks": ""
             }
            },
            "type": "parcoords"
           }
          ],
          "pie": [
           {
            "automargin": true,
            "type": "pie"
           }
          ],
          "scatter": [
           {
            "fillpattern": {
             "fillmode": "overlay",
             "size": 10,
             "solidity": 0.2
            },
            "type": "scatter"
           }
          ],
          "scatter3d": [
           {
            "line": {
             "colorbar": {
              "outlinewidth": 0,
              "ticks": ""
             }
            },
            "marker": {
             "colorbar": {
              "outlinewidth": 0,
              "ticks": ""
             }
            },
            "type": "scatter3d"
           }
          ],
          "scattercarpet": [
           {
            "marker": {
             "colorbar": {
              "outlinewidth": 0,
              "ticks": ""
             }
            },
            "type": "scattercarpet"
           }
          ],
          "scattergeo": [
           {
            "marker": {
             "colorbar": {
              "outlinewidth": 0,
              "ticks": ""
             }
            },
            "type": "scattergeo"
           }
          ],
          "scattergl": [
           {
            "marker": {
             "colorbar": {
              "outlinewidth": 0,
              "ticks": ""
             }
            },
            "type": "scattergl"
           }
          ],
          "scattermap": [
           {
            "marker": {
             "colorbar": {
              "outlinewidth": 0,
              "ticks": ""
             }
            },
            "type": "scattermap"
           }
          ],
          "scattermapbox": [
           {
            "marker": {
             "colorbar": {
              "outlinewidth": 0,
              "ticks": ""
             }
            },
            "type": "scattermapbox"
           }
          ],
          "scatterpolar": [
           {
            "marker": {
             "colorbar": {
              "outlinewidth": 0,
              "ticks": ""
             }
            },
            "type": "scatterpolar"
           }
          ],
          "scatterpolargl": [
           {
            "marker": {
             "colorbar": {
              "outlinewidth": 0,
              "ticks": ""
             }
            },
            "type": "scatterpolargl"
           }
          ],
          "scatterternary": [
           {
            "marker": {
             "colorbar": {
              "outlinewidth": 0,
              "ticks": ""
             }
            },
            "type": "scatterternary"
           }
          ],
          "surface": [
           {
            "colorbar": {
             "outlinewidth": 0,
             "ticks": ""
            },
            "colorscale": [
             [
              0,
              "#0d0887"
             ],
             [
              0.1111111111111111,
              "#46039f"
             ],
             [
              0.2222222222222222,
              "#7201a8"
             ],
             [
              0.3333333333333333,
              "#9c179e"
             ],
             [
              0.4444444444444444,
              "#bd3786"
             ],
             [
              0.5555555555555556,
              "#d8576b"
             ],
             [
              0.6666666666666666,
              "#ed7953"
             ],
             [
              0.7777777777777778,
              "#fb9f3a"
             ],
             [
              0.8888888888888888,
              "#fdca26"
             ],
             [
              1,
              "#f0f921"
             ]
            ],
            "type": "surface"
           }
          ],
          "table": [
           {
            "cells": {
             "fill": {
              "color": "#EBF0F8"
             },
             "line": {
              "color": "white"
             }
            },
            "header": {
             "fill": {
              "color": "#C8D4E3"
             },
             "line": {
              "color": "white"
             }
            },
            "type": "table"
           }
          ]
         },
         "layout": {
          "annotationdefaults": {
           "arrowcolor": "#2a3f5f",
           "arrowhead": 0,
           "arrowwidth": 1
          },
          "autotypenumbers": "strict",
          "coloraxis": {
           "colorbar": {
            "outlinewidth": 0,
            "ticks": ""
           }
          },
          "colorscale": {
           "diverging": [
            [
             0,
             "#8e0152"
            ],
            [
             0.1,
             "#c51b7d"
            ],
            [
             0.2,
             "#de77ae"
            ],
            [
             0.3,
             "#f1b6da"
            ],
            [
             0.4,
             "#fde0ef"
            ],
            [
             0.5,
             "#f7f7f7"
            ],
            [
             0.6,
             "#e6f5d0"
            ],
            [
             0.7,
             "#b8e186"
            ],
            [
             0.8,
             "#7fbc41"
            ],
            [
             0.9,
             "#4d9221"
            ],
            [
             1,
             "#276419"
            ]
           ],
           "sequential": [
            [
             0,
             "#0d0887"
            ],
            [
             0.1111111111111111,
             "#46039f"
            ],
            [
             0.2222222222222222,
             "#7201a8"
            ],
            [
             0.3333333333333333,
             "#9c179e"
            ],
            [
             0.4444444444444444,
             "#bd3786"
            ],
            [
             0.5555555555555556,
             "#d8576b"
            ],
            [
             0.6666666666666666,
             "#ed7953"
            ],
            [
             0.7777777777777778,
             "#fb9f3a"
            ],
            [
             0.8888888888888888,
             "#fdca26"
            ],
            [
             1,
             "#f0f921"
            ]
           ],
           "sequentialminus": [
            [
             0,
             "#0d0887"
            ],
            [
             0.1111111111111111,
             "#46039f"
            ],
            [
             0.2222222222222222,
             "#7201a8"
            ],
            [
             0.3333333333333333,
             "#9c179e"
            ],
            [
             0.4444444444444444,
             "#bd3786"
            ],
            [
             0.5555555555555556,
             "#d8576b"
            ],
            [
             0.6666666666666666,
             "#ed7953"
            ],
            [
             0.7777777777777778,
             "#fb9f3a"
            ],
            [
             0.8888888888888888,
             "#fdca26"
            ],
            [
             1,
             "#f0f921"
            ]
           ]
          },
          "colorway": [
           "#636efa",
           "#EF553B",
           "#00cc96",
           "#ab63fa",
           "#FFA15A",
           "#19d3f3",
           "#FF6692",
           "#B6E880",
           "#FF97FF",
           "#FECB52"
          ],
          "font": {
           "color": "#2a3f5f"
          },
          "geo": {
           "bgcolor": "white",
           "lakecolor": "white",
           "landcolor": "#E5ECF6",
           "showlakes": true,
           "showland": true,
           "subunitcolor": "white"
          },
          "hoverlabel": {
           "align": "left"
          },
          "hovermode": "closest",
          "mapbox": {
           "style": "light"
          },
          "paper_bgcolor": "white",
          "plot_bgcolor": "#E5ECF6",
          "polar": {
           "angularaxis": {
            "gridcolor": "white",
            "linecolor": "white",
            "ticks": ""
           },
           "bgcolor": "#E5ECF6",
           "radialaxis": {
            "gridcolor": "white",
            "linecolor": "white",
            "ticks": ""
           }
          },
          "scene": {
           "xaxis": {
            "backgroundcolor": "#E5ECF6",
            "gridcolor": "white",
            "gridwidth": 2,
            "linecolor": "white",
            "showbackground": true,
            "ticks": "",
            "zerolinecolor": "white"
           },
           "yaxis": {
            "backgroundcolor": "#E5ECF6",
            "gridcolor": "white",
            "gridwidth": 2,
            "linecolor": "white",
            "showbackground": true,
            "ticks": "",
            "zerolinecolor": "white"
           },
           "zaxis": {
            "backgroundcolor": "#E5ECF6",
            "gridcolor": "white",
            "gridwidth": 2,
            "linecolor": "white",
            "showbackground": true,
            "ticks": "",
            "zerolinecolor": "white"
           }
          },
          "shapedefaults": {
           "line": {
            "color": "#2a3f5f"
           }
          },
          "ternary": {
           "aaxis": {
            "gridcolor": "white",
            "linecolor": "white",
            "ticks": ""
           },
           "baxis": {
            "gridcolor": "white",
            "linecolor": "white",
            "ticks": ""
           },
           "bgcolor": "#E5ECF6",
           "caxis": {
            "gridcolor": "white",
            "linecolor": "white",
            "ticks": ""
           }
          },
          "title": {
           "x": 0.05
          },
          "xaxis": {
           "automargin": true,
           "gridcolor": "white",
           "linecolor": "white",
           "ticks": "",
           "title": {
            "standoff": 15
           },
           "zerolinecolor": "white",
           "zerolinewidth": 2
          },
          "yaxis": {
           "automargin": true,
           "gridcolor": "white",
           "linecolor": "white",
           "ticks": "",
           "title": {
            "standoff": 15
           },
           "zerolinecolor": "white",
           "zerolinewidth": 2
          }
         }
        },
        "title": {
         "text": "Estatíticas Anuais da Copa do Mundo",
         "x": 0.5,
         "y": 0.92
        },
        "xaxis": {
         "anchor": "y",
         "domain": [
          0,
          0.45
         ]
        },
        "xaxis2": {
         "anchor": "y2",
         "domain": [
          0.55,
          1
         ]
        },
        "xaxis3": {
         "anchor": "y3",
         "domain": [
          0,
          0.45
         ]
        },
        "xaxis4": {
         "anchor": "y4",
         "domain": [
          0.55,
          1
         ]
        },
        "yaxis": {
         "anchor": "x",
         "domain": [
          0.625,
          1
         ],
         "title": {
          "text": "Jogos"
         }
        },
        "yaxis2": {
         "anchor": "x2",
         "domain": [
          0.625,
          1
         ],
         "title": {
          "text": "Gols totais"
         }
        },
        "yaxis3": {
         "anchor": "x3",
         "domain": [
          0,
          0.375
         ],
         "title": {
          "text": "Cartões totais"
         }
        },
        "yaxis4": {
         "anchor": "x4",
         "domain": [
          0,
          0.375
         ],
         "title": {
          "text": "Gols contra"
         }
        }
       }
      }
     },
     "metadata": {},
     "output_type": "display_data"
    }
   ],
   "source": [
    "## - 01 : Contagem de jogos por ano\n",
    "\n",
    "jogos_ano = wc[\"ano\"].copy()\n",
    "\n",
    "\n",
    "\n",
    "#-----------------------------------------------------------------------------------\n",
    "\n",
    "\n",
    "\n",
    "## - 02 : Contagem de gols por ano, diferenciando entre time da casa e time visitante\n",
    "\n",
    "# Separando gols do time da casa\n",
    "gols_casa = wc.groupby(by=\"ano\")[\"gols_1\"].sum().reset_index()\n",
    "gols_casa.columns = [\"ano\", \"gols\"]\n",
    "\n",
    "# Separando gols do time visitante\n",
    "gols_visitante = wc.groupby(by=\"ano\")[\"gols_2\"].sum().reset_index()\n",
    "gols_visitante.columns = [\"ano\", \"gols\"]\n",
    "\n",
    "\n",
    "\n",
    "#-----------------------------------------------------------------------------------\n",
    "\n",
    "\n",
    "\n",
    "## - 03 : Contagem de cartões vermelhos e amarelos por ano\n",
    "\n",
    "from ast import literal_eval as l_eval\n",
    "\n",
    "# Criação de dataframe intermediário\n",
    "df = pd.DataFrame()\n",
    "df[\"ano\"] = wc[\"ano\"]\n",
    "\n",
    "# No processo abaixo a string nos cartões amarelos é transformada em uma lista e é contado o seu comprimento\n",
    "    # caso o dado não seja uma string, ele é NA, logo não há nenhum cartão\n",
    "df[\"a1\"] = wc[\"cartao_amarelo_1\"].apply(lambda x: len(l_eval(x)) if type(x) == str else 0)\n",
    "df[\"a2\"] = wc[\"cartao_amarelo_2\"].apply(lambda x: len(l_eval(x)) if type(x) == str else 0)\n",
    "\n",
    "# Abaixo a string é quebrada em uma lista e seu o resultado é seu comprimento\n",
    "df[\"v1\"] = wc[\"cartao_vermelho_1\"].apply(lambda x: len(x.split(\"|\")) if type(x) == str else 0)\n",
    "df[\"v2\"] = wc[\"cartao_vermelho_2\"].apply(lambda x: len(x.split(\"|\")) if type(x) == str else 0)\n",
    "\n",
    "# Somando os cartões de cada ano\n",
    "df = df.groupby(by=\"ano\")[[\"a1\", \"a2\", \"v1\", \"v2\"]].sum().reset_index()\n",
    "\n",
    "# Nova base de dados onde há apenas uma coluna para cartões amarelos e uma para cartões vermelhos\n",
    "cartoes = pd.DataFrame({\"ano\" : df.ano, \"cartoes_amarelos\" : df.a1 + df.a2, \"cartoes_vermelhos\" : df.v1 + df.v2})\n",
    "\n",
    "\n",
    "\n",
    "#-----------------------------------------------------------------------------------\n",
    "\n",
    "\n",
    "\n",
    "## - 04 : Contagem de gols contra por ano\n",
    "\n",
    "df = pd.DataFrame()\n",
    "df[\"ano\"] = wc[\"ano\"]\n",
    "\n",
    "# Separando as strings em listas para descobrir o número de gols contra de cada coluna\n",
    "    # uma coluna é gols contra do time da casa e a outra do time visitante\n",
    "df[\"gols_c1\"] = wc[\"gols_1_contra\"].apply(lambda x: len(x.split(\"|\")) if type(x) == str else 0)\n",
    "df[\"gols_c2\"] = wc[\"gols_2_contra\"].apply(lambda x: len(x.split(\"|\")) if type(x) == str else 0)\n",
    "\n",
    "# Somando os gols contra de cada ano\n",
    "df = df.groupby(by=\"ano\")[[\"gols_c1\", \"gols_c2\"]].sum().reset_index()\n",
    "\n",
    "# Juntando os gols contra da casa com os gols contra do time visitante\n",
    "gols_contra = pd.DataFrame({\"ano\" : df.ano, \"gols_cotra\" : df.gols_c1 + df.gols_c2})\n",
    "### Solução com Plotly\n",
    "\n",
    "from plotly.subplots import make_subplots\n",
    "\n",
    "titles = (\"Número de Jogos\", \"Número de Gols\", \"Cartões Amarelos e Vermelhos\", \"Gols Contra\")\n",
    "\n",
    "fig = make_subplots(2, 2, start_cell=\"top-left\", subplot_titles=titles)\n",
    "\n",
    "\n",
    "# Criando histograma do número de jogos por ano\n",
    "fig.append_trace(\n",
    "    po.Histogram(x=jogos_ano, name=\"Gols\"), row=1, col=1\n",
    ")\n",
    "\n",
    "# Criando gráfico com o número de gols contra por ano\n",
    "fig.append_trace(\n",
    "    po.Bar(x=gols_contra[\"ano\"], y=gols_contra[\"gols_cotra\"], name=\"Gols Contra\",\n",
    "           marker=dict(color=1, coloraxis=\"coloraxis\")\n",
    "           ), row=2, col=2\n",
    ")\n",
    "\n",
    "# Criando gráfico de área com gols por ano\n",
    "fig.append_trace(\n",
    "    po.Scatter(x=gols_casa[\"ano\"], y=gols_casa[\"gols\"], fill=\"tozeroy\", name=\"Time da Casa\"), row=1, col=2\n",
    ")\n",
    "fig.append_trace(\n",
    "    po.Scatter(x=gols_visitante[\"ano\"], y=gols_visitante[\"gols\"], fill=\"tozeroy\", name=\"Time Visitante\"), row=1, col=2\n",
    ")\n",
    "\n",
    "# Criando gráfico de área com o número de cartões por ano\n",
    "fig.append_trace(\n",
    "    po.Scatter(x=cartoes[\"ano\"], y=cartoes[\"cartoes_amarelos\"], fill=\"tozeroy\", name=\"Cartões Amarelos\"), row=2, col=1\n",
    ")\n",
    "fig.append_trace(\n",
    "    po.Scatter(x=cartoes[\"ano\"], y=cartoes[\"cartoes_vermelhos\"], fill=\"tozeroy\", name=\"Cartões Vermelhos\"), row=2, col=1\n",
    ")\n",
    "\n",
    "# Colocando legendas dos exos das ordenadas\n",
    "fig.update_yaxes(title_text=\"Jogos\", row=1, col=1)\n",
    "fig.update_yaxes(title_text=\"Gols totais\", row=1, col=2)\n",
    "fig.update_yaxes(title_text=\"Cartões totais\", row=2, col=1)\n",
    "fig.update_yaxes(title_text=\"Gols contra\", row=2, col=2)\n",
    "\n",
    "fig.update_layout(title={\n",
    "    \"text\" : \"Estatíticas Anuais da Copa do Mundo\",\n",
    "    \"x\" : 0.5,\n",
    "    \"y\" : 0.92\n",
    "})\n",
    "\n",
    "fig.show()"
   ]
  }
 ],
 "metadata": {
  "kernelspec": {
   "display_name": "Python 3",
   "language": "python",
   "name": "python3"
  },
  "language_info": {
   "codemirror_mode": {
    "name": "ipython",
    "version": 3
   },
   "file_extension": ".py",
   "mimetype": "text/x-python",
   "name": "python",
   "nbconvert_exporter": "python",
   "pygments_lexer": "ipython3",
   "version": "3.13.7"
  }
 },
 "nbformat": 4,
 "nbformat_minor": 2
}
